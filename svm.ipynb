{
  "cells": [
    {
      "cell_type": "markdown",
      "metadata": {
        "id": "view-in-github",
        "colab_type": "text"
      },
      "source": [
        "<a href=\"https://colab.research.google.com/github/dineshRaja29/SupportVectorMachine/blob/main/svm.ipynb\" target=\"_parent\"><img src=\"https://colab.research.google.com/assets/colab-badge.svg\" alt=\"Open In Colab\"/></a>"
      ]
    },
    {
      "cell_type": "markdown",
      "source": [
        "##<font color='green'><b>INTRODUCTION </b></font>"
      ],
      "metadata": {
        "id": "5UH45zRtHvf7"
      }
    },
    {
      "cell_type": "markdown",
      "source": [
        "<ol>\n",
        "    <li><strong>Applying SVM on these feature sets</strong>\n",
        "        <ul>\n",
        "            <li>Review text, preprocessed one converted into vectors using BOW</li>\n",
        "            <li>Review text, preprocessed one converted into vectors using TF-IDF</li>\n",
        "            <li>Review text, preprocessed one converted into vectors using AVG W2V</li>\n",
        "            <li>Review text, preprocessed one converted into vectors using TFIDF W2V</li>\n",
        "        </ul>\n",
        "    </li>\n",
        "    <br>\n",
        "    <li><strong>Procedure</strong>\n",
        "        <ul>\n",
        "    <li>Exploring 2 versions of SVM\n",
        "        <ul><li>Linear kernel</li>\n",
        "            <li>RBF kernel</li></ul>\n",
        "    <li>While working with linear kernel, we use SGDClassifier with hinge loss because it is computationally less expensive.</li>\n",
        "    <li>Performance Metric we have used is AUC\n",
        "        score, for probability scores we have use <a href='https://scikit-learn.org/stable/modules/generated/sklearn.calibration.CalibratedClassifierCV.html'>CalibratedClassifierCV</a></li>\n",
        "    <li>Similarly, like kdtree of knn, when we are working with RBF kernel then it's better to reduce\n",
        "the number of dimensions. [min_df = 10, max_features = 500, and 40k points].</li>                \n",
        "        </ul>\n",
        "    </li>\n",
        "    <br>"
      ],
      "metadata": {
        "id": "dPgUOy6QHzKA"
      }
    },
    {
      "cell_type": "markdown",
      "source": [
        "##<font color='green'><b>DATASET DETAILS </b></font>\n"
      ],
      "metadata": {
        "id": "uslxmMQrMNGV"
      }
    },
    {
      "cell_type": "markdown",
      "metadata": {
        "id": "Lusgqy4aTG3E"
      },
      "source": [
        "\n",
        "\n",
        "Data Source: https://www.kaggle.com/snap/amazon-fine-food-reviews <br>\n",
        "\n",
        "EDA: https://nycdatascience.com/blog/student-works/amazon-fine-foods-visualization/\n",
        "\n",
        "\n",
        "The Amazon Fine Food Reviews dataset consists of reviews of fine foods from Amazon.<br>\n",
        "\n",
        "Number of reviews: 568,454<br>\n",
        "Number of users: 256,059<br>\n",
        "Number of products: 74,258<br>\n",
        "Timespan: Oct 1999 - Oct 2012<br>\n",
        "Number of Attributes/Columns in data: 10 \n",
        "\n",
        "Attribute Information:\n",
        "\n",
        "1. Id\n",
        "2. ProductId - unique identifier for the product\n",
        "3. UserId - unqiue identifier for the user\n",
        "4. ProfileName\n",
        "5. HelpfulnessNumerator - number of users who found the review helpful\n",
        "6. HelpfulnessDenominator - number of users who indicated whether they found the review helpful or not\n",
        "7. Score - rating between 1 and 5\n",
        "8. Time - timestamp for the review\n",
        "9. Summary - brief summary of the review\n",
        "10. Text - text of the review\n",
        "\n",
        "\n",
        "#### Objective:\n",
        "Given a review, determine whether the review is positive (rating of 4 or 5) or negative (rating of 1 or 2).\n",
        "\n",
        "We could use Score/Rating. A rating of 4 or 5 can be cosnidered as a positive review. A rating of 1 or 2 can be considered as negative one. A review of rating 3 is considered nuetral and such reviews are ignored from our analysis. This is an approximate and proxy way of determining the polarity (positivity/negativity) of a review."
      ]
    },
    {
      "cell_type": "markdown",
      "metadata": {
        "id": "q-8az8sDTG3T"
      },
      "source": [
        "##<font color='green'><b>PREPROCESSING</b></font>"
      ]
    },
    {
      "cell_type": "markdown",
      "metadata": {
        "id": "jO39WwKrTG3h"
      },
      "source": [
        "The dataset is available in two forms\n",
        "1. .csv file\n",
        "2. SQLite Database\n",
        "\n",
        "In order to load the data, We have used the SQLITE dataset as it is easier to query the data and visualise the data efficiently.\n",
        "<br> \n",
        "\n",
        "Here as we only want to get the global sentiment of the recommendations (positive or negative), we will purposefully ignore all Scores equal to 3. If the score is above 3, then the recommendation wil be set to \"positive\". Otherwise, it will be set to \"negative\"."
      ]
    },
    {
      "cell_type": "code",
      "execution_count": null,
      "metadata": {
        "collapsed": true,
        "id": "T8qG6KH2TG3o"
      },
      "outputs": [],
      "source": [
        "%matplotlib inline\n",
        "import warnings\n",
        "warnings.filterwarnings(\"ignore\")\n",
        "\n",
        "\n",
        "import sqlite3\n",
        "import pandas as pd\n",
        "import numpy as np\n",
        "import nltk\n",
        "import string\n",
        "import matplotlib.pyplot as plt\n",
        "import seaborn as sns\n",
        "from sklearn.feature_extraction.text import TfidfTransformer\n",
        "from sklearn.feature_extraction.text import TfidfVectorizer\n",
        "\n",
        "from sklearn.feature_extraction.text import CountVectorizer\n",
        "from sklearn.metrics import confusion_matrix\n",
        "from sklearn import metrics\n",
        "from sklearn.metrics import roc_curve, auc\n",
        "from nltk.stem.porter import PorterStemmer\n",
        "\n",
        "import re\n",
        "# Tutorial about Python regular expressions: https://pymotw.com/2/re/\n",
        "import string\n",
        "from nltk.corpus import stopwords\n",
        "from nltk.stem import PorterStemmer\n",
        "from nltk.stem.wordnet import WordNetLemmatizer\n",
        "\n",
        "from gensim.models import Word2Vec\n",
        "from gensim.models import KeyedVectors\n",
        "import pickle\n",
        "\n",
        "from tqdm import tqdm\n",
        "import os\n",
        "from sklearn.model_selection import cross_validate\n",
        "from sklearn.model_selection import train_test_split\n",
        "from sklearn import linear_model\n",
        "from sklearn.calibration import CalibratedClassifierCV\n",
        "from matplotlib.colors import Normalize\n",
        "from sklearn import linear_model\n",
        "from sklearn.model_selection import GridSearchCV"
      ]
    },
    {
      "cell_type": "code",
      "execution_count": null,
      "metadata": {
        "colab": {
          "base_uri": "https://localhost:8080/",
          "height": 542
        },
        "id": "nTd4CWAwTG4F",
        "outputId": "ab93f603-8096-4ab4-b9ac-7c6e6548858c"
      },
      "outputs": [
        {
          "name": "stdout",
          "output_type": "stream",
          "text": [
            "Go to this URL in a browser: https://accounts.google.com/o/oauth2/auth?client_id=947318989803-6bn6qk8qdgf4n4g3pfee6491hc0brc4i.apps.googleusercontent.com&redirect_uri=urn%3Aietf%3Awg%3Aoauth%3A2.0%3Aoob&scope=email%20https%3A%2F%2Fwww.googleapis.com%2Fauth%2Fdocs.test%20https%3A%2F%2Fwww.googleapis.com%2Fauth%2Fdrive%20https%3A%2F%2Fwww.googleapis.com%2Fauth%2Fdrive.photos.readonly%20https%3A%2F%2Fwww.googleapis.com%2Fauth%2Fpeopleapi.readonly&response_type=code\n",
            "\n",
            "Enter your authorization code:\n",
            "··········\n",
            "Mounted at /content/drive\n",
            "Number of data points in our data (100000, 10)\n"
          ]
        },
        {
          "data": {
            "text/html": [
              "<div>\n",
              "<style scoped>\n",
              "    .dataframe tbody tr th:only-of-type {\n",
              "        vertical-align: middle;\n",
              "    }\n",
              "\n",
              "    .dataframe tbody tr th {\n",
              "        vertical-align: top;\n",
              "    }\n",
              "\n",
              "    .dataframe thead th {\n",
              "        text-align: right;\n",
              "    }\n",
              "</style>\n",
              "<table border=\"1\" class=\"dataframe\">\n",
              "  <thead>\n",
              "    <tr style=\"text-align: right;\">\n",
              "      <th></th>\n",
              "      <th>Id</th>\n",
              "      <th>ProductId</th>\n",
              "      <th>UserId</th>\n",
              "      <th>ProfileName</th>\n",
              "      <th>HelpfulnessNumerator</th>\n",
              "      <th>HelpfulnessDenominator</th>\n",
              "      <th>Score</th>\n",
              "      <th>Time</th>\n",
              "      <th>Summary</th>\n",
              "      <th>Text</th>\n",
              "    </tr>\n",
              "  </thead>\n",
              "  <tbody>\n",
              "    <tr>\n",
              "      <th>0</th>\n",
              "      <td>1</td>\n",
              "      <td>B001E4KFG0</td>\n",
              "      <td>A3SGXH7AUHU8GW</td>\n",
              "      <td>delmartian</td>\n",
              "      <td>1</td>\n",
              "      <td>1</td>\n",
              "      <td>1</td>\n",
              "      <td>1303862400</td>\n",
              "      <td>Good Quality Dog Food</td>\n",
              "      <td>I have bought several of the Vitality canned d...</td>\n",
              "    </tr>\n",
              "    <tr>\n",
              "      <th>1</th>\n",
              "      <td>2</td>\n",
              "      <td>B00813GRG4</td>\n",
              "      <td>A1D87F6ZCVE5NK</td>\n",
              "      <td>dll pa</td>\n",
              "      <td>0</td>\n",
              "      <td>0</td>\n",
              "      <td>0</td>\n",
              "      <td>1346976000</td>\n",
              "      <td>Not as Advertised</td>\n",
              "      <td>Product arrived labeled as Jumbo Salted Peanut...</td>\n",
              "    </tr>\n",
              "    <tr>\n",
              "      <th>2</th>\n",
              "      <td>3</td>\n",
              "      <td>B000LQOCH0</td>\n",
              "      <td>ABXLMWJIXXAIN</td>\n",
              "      <td>Natalia Corres \"Natalia Corres\"</td>\n",
              "      <td>1</td>\n",
              "      <td>1</td>\n",
              "      <td>1</td>\n",
              "      <td>1219017600</td>\n",
              "      <td>\"Delight\" says it all</td>\n",
              "      <td>This is a confection that has been around a fe...</td>\n",
              "    </tr>\n",
              "  </tbody>\n",
              "</table>\n",
              "</div>"
            ],
            "text/plain": [
              "   Id  ...                                               Text\n",
              "0   1  ...  I have bought several of the Vitality canned d...\n",
              "1   2  ...  Product arrived labeled as Jumbo Salted Peanut...\n",
              "2   3  ...  This is a confection that has been around a fe...\n",
              "\n",
              "[3 rows x 10 columns]"
            ]
          },
          "execution_count": 2,
          "metadata": {
            "tags": []
          },
          "output_type": "execute_result"
        }
      ],
      "source": [
        "con = sqlite3.connect('database.sqlite') \n",
        "\n",
        "# filtering only positive and negative reviews i.e. \n",
        "# not taking into consideration those reviews with Score=3\n",
        "# SELECT * FROM Reviews WHERE Score != 3 LIMIT 500000, will give top 500000 data points\n",
        "# you can change the number to any other number based on your computing power\n",
        "\n",
        "# filtered_data = pd.read_sql_query(\"\"\" SELECT * FROM Reviews WHERE Score != 3 LIMIT 500000\"\"\", con) \n",
        "# for tsne assignment you can take 5k data points\n",
        "\n",
        "filtered_data = pd.read_sql_query(\"\"\" SELECT * FROM Reviews WHERE Score != 3 LIMIT 100000\"\"\", con) \n",
        "\n",
        "# Give reviews with Score>3 a positive rating(1), and reviews with a score<3 a negative rating(0).\n",
        "def partition(x):\n",
        "    if x < 3:\n",
        "        return 0\n",
        "    return 1\n",
        "\n",
        "#changing reviews with score less than 3 to be positive and vice-versa\n",
        "actualScore = filtered_data['Score']\n",
        "positiveNegative = actualScore.map(partition) \n",
        "filtered_data['Score'] = positiveNegative\n",
        "print(\"Number of data points in our data\", filtered_data.shape)\n",
        "filtered_data.head(3)"
      ]
    },
    {
      "cell_type": "code",
      "execution_count": null,
      "metadata": {
        "collapsed": true,
        "id": "o5WQ08ptTG4w"
      },
      "outputs": [],
      "source": [
        "display = pd.read_sql_query(\"\"\"\n",
        "SELECT UserId, ProductId, ProfileName, Time, Score, Text, COUNT(*)\n",
        "FROM Reviews\n",
        "GROUP BY UserId\n",
        "HAVING COUNT(*)>1\n",
        "\"\"\", con)"
      ]
    },
    {
      "cell_type": "code",
      "execution_count": null,
      "metadata": {
        "colab": {
          "base_uri": "https://localhost:8080/",
          "height": 445
        },
        "id": "sHiuaU1xTG5F",
        "outputId": "f8c09b49-7701-412c-e4b2-6cfb0cc3c4b9",
        "scrolled": true
      },
      "outputs": [
        {
          "name": "stdout",
          "output_type": "stream",
          "text": [
            "(80668, 7)\n"
          ]
        },
        {
          "data": {
            "text/html": [
              "<div>\n",
              "<style scoped>\n",
              "    .dataframe tbody tr th:only-of-type {\n",
              "        vertical-align: middle;\n",
              "    }\n",
              "\n",
              "    .dataframe tbody tr th {\n",
              "        vertical-align: top;\n",
              "    }\n",
              "\n",
              "    .dataframe thead th {\n",
              "        text-align: right;\n",
              "    }\n",
              "</style>\n",
              "<table border=\"1\" class=\"dataframe\">\n",
              "  <thead>\n",
              "    <tr style=\"text-align: right;\">\n",
              "      <th></th>\n",
              "      <th>UserId</th>\n",
              "      <th>ProductId</th>\n",
              "      <th>ProfileName</th>\n",
              "      <th>Time</th>\n",
              "      <th>Score</th>\n",
              "      <th>Text</th>\n",
              "      <th>COUNT(*)</th>\n",
              "    </tr>\n",
              "  </thead>\n",
              "  <tbody>\n",
              "    <tr>\n",
              "      <th>0</th>\n",
              "      <td>#oc-R115TNMSPFT9I7</td>\n",
              "      <td>B007Y59HVM</td>\n",
              "      <td>Breyton</td>\n",
              "      <td>1331510400</td>\n",
              "      <td>2</td>\n",
              "      <td>Overall its just OK when considering the price...</td>\n",
              "      <td>2</td>\n",
              "    </tr>\n",
              "    <tr>\n",
              "      <th>1</th>\n",
              "      <td>#oc-R11D9D7SHXIJB9</td>\n",
              "      <td>B005HG9ET0</td>\n",
              "      <td>Louis E. Emory \"hoppy\"</td>\n",
              "      <td>1342396800</td>\n",
              "      <td>5</td>\n",
              "      <td>My wife has recurring extreme muscle spasms, u...</td>\n",
              "      <td>3</td>\n",
              "    </tr>\n",
              "    <tr>\n",
              "      <th>2</th>\n",
              "      <td>#oc-R11DNU2NBKQ23Z</td>\n",
              "      <td>B007Y59HVM</td>\n",
              "      <td>Kim Cieszykowski</td>\n",
              "      <td>1348531200</td>\n",
              "      <td>1</td>\n",
              "      <td>This coffee is horrible and unfortunately not ...</td>\n",
              "      <td>2</td>\n",
              "    </tr>\n",
              "    <tr>\n",
              "      <th>3</th>\n",
              "      <td>#oc-R11O5J5ZVQE25C</td>\n",
              "      <td>B005HG9ET0</td>\n",
              "      <td>Penguin Chick</td>\n",
              "      <td>1346889600</td>\n",
              "      <td>5</td>\n",
              "      <td>This will be the bottle that you grab from the...</td>\n",
              "      <td>3</td>\n",
              "    </tr>\n",
              "    <tr>\n",
              "      <th>4</th>\n",
              "      <td>#oc-R12KPBODL2B5ZD</td>\n",
              "      <td>B007OSBE1U</td>\n",
              "      <td>Christopher P. Presta</td>\n",
              "      <td>1348617600</td>\n",
              "      <td>1</td>\n",
              "      <td>I didnt like this coffee. Instead of telling y...</td>\n",
              "      <td>2</td>\n",
              "    </tr>\n",
              "  </tbody>\n",
              "</table>\n",
              "</div>"
            ],
            "text/plain": [
              "               UserId  ... COUNT(*)\n",
              "0  #oc-R115TNMSPFT9I7  ...        2\n",
              "1  #oc-R11D9D7SHXIJB9  ...        3\n",
              "2  #oc-R11DNU2NBKQ23Z  ...        2\n",
              "3  #oc-R11O5J5ZVQE25C  ...        3\n",
              "4  #oc-R12KPBODL2B5ZD  ...        2\n",
              "\n",
              "[5 rows x 7 columns]"
            ]
          },
          "execution_count": 4,
          "metadata": {
            "tags": []
          },
          "output_type": "execute_result"
        }
      ],
      "source": [
        "print(display.shape)\n",
        "display.head()"
      ]
    },
    {
      "cell_type": "code",
      "execution_count": null,
      "metadata": {
        "colab": {
          "base_uri": "https://localhost:8080/",
          "height": 169
        },
        "id": "KcohaltyTG5g",
        "outputId": "3b878bfd-1b7a-4548-b69d-d671716eb676"
      },
      "outputs": [
        {
          "data": {
            "text/html": [
              "<div>\n",
              "<style scoped>\n",
              "    .dataframe tbody tr th:only-of-type {\n",
              "        vertical-align: middle;\n",
              "    }\n",
              "\n",
              "    .dataframe tbody tr th {\n",
              "        vertical-align: top;\n",
              "    }\n",
              "\n",
              "    .dataframe thead th {\n",
              "        text-align: right;\n",
              "    }\n",
              "</style>\n",
              "<table border=\"1\" class=\"dataframe\">\n",
              "  <thead>\n",
              "    <tr style=\"text-align: right;\">\n",
              "      <th></th>\n",
              "      <th>UserId</th>\n",
              "      <th>ProductId</th>\n",
              "      <th>ProfileName</th>\n",
              "      <th>Time</th>\n",
              "      <th>Score</th>\n",
              "      <th>Text</th>\n",
              "      <th>COUNT(*)</th>\n",
              "    </tr>\n",
              "  </thead>\n",
              "  <tbody>\n",
              "    <tr>\n",
              "      <th>80638</th>\n",
              "      <td>AZY10LLTJ71NX</td>\n",
              "      <td>B006P7E5ZI</td>\n",
              "      <td>undertheshrine \"undertheshrine\"</td>\n",
              "      <td>1334707200</td>\n",
              "      <td>5</td>\n",
              "      <td>I was recommended to try green tea extract to ...</td>\n",
              "      <td>5</td>\n",
              "    </tr>\n",
              "  </tbody>\n",
              "</table>\n",
              "</div>"
            ],
            "text/plain": [
              "              UserId  ... COUNT(*)\n",
              "80638  AZY10LLTJ71NX  ...        5\n",
              "\n",
              "[1 rows x 7 columns]"
            ]
          },
          "execution_count": 5,
          "metadata": {
            "tags": []
          },
          "output_type": "execute_result"
        }
      ],
      "source": [
        "display[display['UserId']=='AZY10LLTJ71NX']"
      ]
    },
    {
      "cell_type": "code",
      "execution_count": null,
      "metadata": {
        "colab": {
          "base_uri": "https://localhost:8080/",
          "height": 35
        },
        "id": "S8eIr6EfTG57",
        "outputId": "d3eb9ede-f938-48d0-dea7-ea682dd57c5c"
      },
      "outputs": [
        {
          "data": {
            "text/plain": [
              "393063"
            ]
          },
          "execution_count": 6,
          "metadata": {
            "tags": []
          },
          "output_type": "execute_result"
        }
      ],
      "source": [
        "display['COUNT(*)'].sum()"
      ]
    },
    {
      "cell_type": "markdown",
      "metadata": {
        "id": "xAwLyy1kTG6l"
      },
      "source": [
        "###<font color='green'><b>Data Cleaning: Deduplication\n",
        "\n",
        "It is observed (as shown in the table below) that the reviews data had many duplicate entries. Hence it was necessary to remove duplicates in order to get unbiased results for the analysis of the data.  Following is an example:"
      ]
    },
    {
      "cell_type": "code",
      "execution_count": null,
      "metadata": {
        "colab": {
          "base_uri": "https://localhost:8080/",
          "height": 569
        },
        "id": "kFDyc3KhTG6v",
        "outputId": "acd02eb7-2c5a-48d4-9faa-10d77f0cd780",
        "scrolled": false
      },
      "outputs": [
        {
          "data": {
            "text/html": [
              "<div>\n",
              "<style scoped>\n",
              "    .dataframe tbody tr th:only-of-type {\n",
              "        vertical-align: middle;\n",
              "    }\n",
              "\n",
              "    .dataframe tbody tr th {\n",
              "        vertical-align: top;\n",
              "    }\n",
              "\n",
              "    .dataframe thead th {\n",
              "        text-align: right;\n",
              "    }\n",
              "</style>\n",
              "<table border=\"1\" class=\"dataframe\">\n",
              "  <thead>\n",
              "    <tr style=\"text-align: right;\">\n",
              "      <th></th>\n",
              "      <th>Id</th>\n",
              "      <th>ProductId</th>\n",
              "      <th>UserId</th>\n",
              "      <th>ProfileName</th>\n",
              "      <th>HelpfulnessNumerator</th>\n",
              "      <th>HelpfulnessDenominator</th>\n",
              "      <th>Score</th>\n",
              "      <th>Time</th>\n",
              "      <th>Summary</th>\n",
              "      <th>Text</th>\n",
              "    </tr>\n",
              "  </thead>\n",
              "  <tbody>\n",
              "    <tr>\n",
              "      <th>0</th>\n",
              "      <td>78445</td>\n",
              "      <td>B000HDL1RQ</td>\n",
              "      <td>AR5J8UI46CURR</td>\n",
              "      <td>Geetha Krishnan</td>\n",
              "      <td>2</td>\n",
              "      <td>2</td>\n",
              "      <td>5</td>\n",
              "      <td>1199577600</td>\n",
              "      <td>LOACKER QUADRATINI VANILLA WAFERS</td>\n",
              "      <td>DELICIOUS WAFERS. I FIND THAT EUROPEAN WAFERS ...</td>\n",
              "    </tr>\n",
              "    <tr>\n",
              "      <th>1</th>\n",
              "      <td>138317</td>\n",
              "      <td>B000HDOPYC</td>\n",
              "      <td>AR5J8UI46CURR</td>\n",
              "      <td>Geetha Krishnan</td>\n",
              "      <td>2</td>\n",
              "      <td>2</td>\n",
              "      <td>5</td>\n",
              "      <td>1199577600</td>\n",
              "      <td>LOACKER QUADRATINI VANILLA WAFERS</td>\n",
              "      <td>DELICIOUS WAFERS. I FIND THAT EUROPEAN WAFERS ...</td>\n",
              "    </tr>\n",
              "    <tr>\n",
              "      <th>2</th>\n",
              "      <td>138277</td>\n",
              "      <td>B000HDOPYM</td>\n",
              "      <td>AR5J8UI46CURR</td>\n",
              "      <td>Geetha Krishnan</td>\n",
              "      <td>2</td>\n",
              "      <td>2</td>\n",
              "      <td>5</td>\n",
              "      <td>1199577600</td>\n",
              "      <td>LOACKER QUADRATINI VANILLA WAFERS</td>\n",
              "      <td>DELICIOUS WAFERS. I FIND THAT EUROPEAN WAFERS ...</td>\n",
              "    </tr>\n",
              "    <tr>\n",
              "      <th>3</th>\n",
              "      <td>73791</td>\n",
              "      <td>B000HDOPZG</td>\n",
              "      <td>AR5J8UI46CURR</td>\n",
              "      <td>Geetha Krishnan</td>\n",
              "      <td>2</td>\n",
              "      <td>2</td>\n",
              "      <td>5</td>\n",
              "      <td>1199577600</td>\n",
              "      <td>LOACKER QUADRATINI VANILLA WAFERS</td>\n",
              "      <td>DELICIOUS WAFERS. I FIND THAT EUROPEAN WAFERS ...</td>\n",
              "    </tr>\n",
              "    <tr>\n",
              "      <th>4</th>\n",
              "      <td>155049</td>\n",
              "      <td>B000PAQ75C</td>\n",
              "      <td>AR5J8UI46CURR</td>\n",
              "      <td>Geetha Krishnan</td>\n",
              "      <td>2</td>\n",
              "      <td>2</td>\n",
              "      <td>5</td>\n",
              "      <td>1199577600</td>\n",
              "      <td>LOACKER QUADRATINI VANILLA WAFERS</td>\n",
              "      <td>DELICIOUS WAFERS. I FIND THAT EUROPEAN WAFERS ...</td>\n",
              "    </tr>\n",
              "  </tbody>\n",
              "</table>\n",
              "</div>"
            ],
            "text/plain": [
              "       Id  ...                                               Text\n",
              "0   78445  ...  DELICIOUS WAFERS. I FIND THAT EUROPEAN WAFERS ...\n",
              "1  138317  ...  DELICIOUS WAFERS. I FIND THAT EUROPEAN WAFERS ...\n",
              "2  138277  ...  DELICIOUS WAFERS. I FIND THAT EUROPEAN WAFERS ...\n",
              "3   73791  ...  DELICIOUS WAFERS. I FIND THAT EUROPEAN WAFERS ...\n",
              "4  155049  ...  DELICIOUS WAFERS. I FIND THAT EUROPEAN WAFERS ...\n",
              "\n",
              "[5 rows x 10 columns]"
            ]
          },
          "execution_count": 7,
          "metadata": {
            "tags": []
          },
          "output_type": "execute_result"
        }
      ],
      "source": [
        "display= pd.read_sql_query(\"\"\"\n",
        "SELECT *\n",
        "FROM Reviews\n",
        "WHERE Score != 3 AND UserId=\"AR5J8UI46CURR\"\n",
        "ORDER BY ProductID\n",
        "\"\"\", con)\n",
        "display.head()"
      ]
    },
    {
      "cell_type": "markdown",
      "metadata": {
        "id": "ZBRcpRR7TG7d"
      },
      "source": [
        "As it can be seen above that same user has multiple reviews with same values for HelpfulnessNumerator, HelpfulnessDenominator, Score, Time, Summary and Text and on doing analysis it was found that <br>\n",
        "<br> \n",
        "ProductId=B000HDOPZG was Loacker Quadratini Vanilla Wafer Cookies, 8.82-Ounce Packages (Pack of 8)<br>\n",
        "<br> \n",
        "ProductId=B000HDL1RQ was Loacker Quadratini Lemon Wafer Cookies, 8.82-Ounce Packages (Pack of 8) and so on<br>\n",
        "\n",
        "It was inferred after analysis that reviews with same parameters other than ProductId belonged to the same product just having different flavour or quantity. Hence in order to reduce redundancy it was decided to eliminate the rows having same parameters.<br>\n",
        "\n",
        "The method used for the same was that we first sort the data according to ProductId and then just keep the first similar product review and delelte the others. for eg. in the above just the review for ProductId=B000HDL1RQ remains. This method ensures that there is only one representative for each product and deduplication without sorting would lead to possibility of different representatives still existing for the same product."
      ]
    },
    {
      "cell_type": "code",
      "execution_count": null,
      "metadata": {
        "collapsed": true,
        "id": "NvAJEaTiTG7g"
      },
      "outputs": [],
      "source": [
        "#Sorting data according to ProductId in ascending order\n",
        "sorted_data=filtered_data.sort_values('ProductId', axis=0, ascending=True, inplace=False, kind='quicksort', na_position='last')"
      ]
    },
    {
      "cell_type": "code",
      "execution_count": null,
      "metadata": {
        "colab": {
          "base_uri": "https://localhost:8080/",
          "height": 35
        },
        "id": "PgxCr8E-TG77",
        "outputId": "0c5d062c-554d-47f1-8306-814fdaa666ec"
      },
      "outputs": [
        {
          "data": {
            "text/plain": [
              "(87775, 10)"
            ]
          },
          "execution_count": 9,
          "metadata": {
            "tags": []
          },
          "output_type": "execute_result"
        }
      ],
      "source": [
        "#Deduplication of entries\n",
        "final=sorted_data.drop_duplicates(subset={\"UserId\",\"ProfileName\",\"Time\",\"Text\"}, keep='first', inplace=False)\n",
        "final.shape"
      ]
    },
    {
      "cell_type": "code",
      "execution_count": null,
      "metadata": {
        "colab": {
          "base_uri": "https://localhost:8080/",
          "height": 35
        },
        "id": "hJGLro1oTG8S",
        "outputId": "24a3160f-f37e-4bc8-c572-b56a84d6b2b1"
      },
      "outputs": [
        {
          "data": {
            "text/plain": [
              "87.775"
            ]
          },
          "execution_count": 10,
          "metadata": {
            "tags": []
          },
          "output_type": "execute_result"
        }
      ],
      "source": [
        "#Checking to see how much % of data still remains\n",
        "(final['Id'].size*1.0)/(filtered_data['Id'].size*1.0)*100"
      ]
    },
    {
      "cell_type": "markdown",
      "metadata": {
        "id": "iE3pCJjuTG8v"
      },
      "source": [
        "<b>Observation:-</b> It was also seen that in two rows given below the value of HelpfulnessNumerator is greater than HelpfulnessDenominator which is not practically possible hence these two rows too are removed from calcualtions"
      ]
    },
    {
      "cell_type": "code",
      "execution_count": null,
      "metadata": {
        "colab": {
          "base_uri": "https://localhost:8080/",
          "height": 338
        },
        "id": "LDacomTmTG80",
        "outputId": "39d4c7ac-b9f9-40fa-8a78-cb2f44a7ac36"
      },
      "outputs": [
        {
          "data": {
            "text/html": [
              "<div>\n",
              "<style scoped>\n",
              "    .dataframe tbody tr th:only-of-type {\n",
              "        vertical-align: middle;\n",
              "    }\n",
              "\n",
              "    .dataframe tbody tr th {\n",
              "        vertical-align: top;\n",
              "    }\n",
              "\n",
              "    .dataframe thead th {\n",
              "        text-align: right;\n",
              "    }\n",
              "</style>\n",
              "<table border=\"1\" class=\"dataframe\">\n",
              "  <thead>\n",
              "    <tr style=\"text-align: right;\">\n",
              "      <th></th>\n",
              "      <th>Id</th>\n",
              "      <th>ProductId</th>\n",
              "      <th>UserId</th>\n",
              "      <th>ProfileName</th>\n",
              "      <th>HelpfulnessNumerator</th>\n",
              "      <th>HelpfulnessDenominator</th>\n",
              "      <th>Score</th>\n",
              "      <th>Time</th>\n",
              "      <th>Summary</th>\n",
              "      <th>Text</th>\n",
              "    </tr>\n",
              "  </thead>\n",
              "  <tbody>\n",
              "    <tr>\n",
              "      <th>0</th>\n",
              "      <td>64422</td>\n",
              "      <td>B000MIDROQ</td>\n",
              "      <td>A161DK06JJMCYF</td>\n",
              "      <td>J. E. Stephens \"Jeanne\"</td>\n",
              "      <td>3</td>\n",
              "      <td>1</td>\n",
              "      <td>5</td>\n",
              "      <td>1224892800</td>\n",
              "      <td>Bought This for My Son at College</td>\n",
              "      <td>My son loves spaghetti so I didn't hesitate or...</td>\n",
              "    </tr>\n",
              "    <tr>\n",
              "      <th>1</th>\n",
              "      <td>44737</td>\n",
              "      <td>B001EQ55RW</td>\n",
              "      <td>A2V0I904FH7ABY</td>\n",
              "      <td>Ram</td>\n",
              "      <td>3</td>\n",
              "      <td>2</td>\n",
              "      <td>4</td>\n",
              "      <td>1212883200</td>\n",
              "      <td>Pure cocoa taste with crunchy almonds inside</td>\n",
              "      <td>It was almost a 'love at first bite' - the per...</td>\n",
              "    </tr>\n",
              "  </tbody>\n",
              "</table>\n",
              "</div>"
            ],
            "text/plain": [
              "      Id  ...                                               Text\n",
              "0  64422  ...  My son loves spaghetti so I didn't hesitate or...\n",
              "1  44737  ...  It was almost a 'love at first bite' - the per...\n",
              "\n",
              "[2 rows x 10 columns]"
            ]
          },
          "execution_count": 11,
          "metadata": {
            "tags": []
          },
          "output_type": "execute_result"
        }
      ],
      "source": [
        "display= pd.read_sql_query(\"\"\"\n",
        "SELECT *\n",
        "FROM Reviews\n",
        "WHERE Score != 3 AND Id=44737 OR Id=64422\n",
        "ORDER BY ProductID\n",
        "\"\"\", con)\n",
        "\n",
        "display.head()"
      ]
    },
    {
      "cell_type": "code",
      "execution_count": null,
      "metadata": {
        "collapsed": true,
        "id": "ytBOuB3sTG9K"
      },
      "outputs": [],
      "source": [
        "final=final[final.HelpfulnessNumerator<=final.HelpfulnessDenominator]"
      ]
    },
    {
      "cell_type": "code",
      "execution_count": null,
      "metadata": {
        "colab": {
          "base_uri": "https://localhost:8080/",
          "height": 87
        },
        "id": "r99Bg_8HTG9W",
        "outputId": "b165946b-761a-4e9a-ae69-a2cf53c08ba1"
      },
      "outputs": [
        {
          "name": "stdout",
          "output_type": "stream",
          "text": [
            "(87773, 10)\n"
          ]
        },
        {
          "data": {
            "text/plain": [
              "1    73592\n",
              "0    14181\n",
              "Name: Score, dtype: int64"
            ]
          },
          "execution_count": 13,
          "metadata": {
            "tags": []
          },
          "output_type": "execute_result"
        }
      ],
      "source": [
        "#Before starting the next phase of preprocessing lets see the number of entries left\n",
        "print(final.shape)\n",
        "\n",
        "#How many positive and negative reviews are present in our dataset?\n",
        "final['Score'].value_counts()"
      ]
    },
    {
      "cell_type": "markdown",
      "metadata": {
        "id": "ybiP_CC7TG97"
      },
      "source": [
        "###<font color='green'><b>DATA NORMALIZATION </b></font>\n",
        "\n",
        "\n",
        "1. Begin by removing the html tags\n",
        "2. Remove any punctuations or limited set of special characters like , or . or # etc.\n",
        "3. Check if the word is made up of english letters and is not alpha-numeric\n",
        "4. Check to see if the length of the word is greater than 2 (as it was researched that there is no adjective in 2-letters)\n",
        "5. Convert the word to lowercase\n",
        "6. Remove Stopwords\n",
        "7. Stemming<br>\n"
      ]
    },
    {
      "cell_type": "code",
      "execution_count": null,
      "metadata": {
        "colab": {
          "base_uri": "https://localhost:8080/",
          "height": 176
        },
        "id": "cWKQTzZiTG-A",
        "outputId": "2ff1cafb-d634-473d-b38d-2fbee3bf8ef1"
      },
      "outputs": [
        {
          "name": "stdout",
          "output_type": "stream",
          "text": [
            "My dogs loves this chicken but its a product from China, so we wont be buying it anymore.  Its very hard to find any chicken products made in the USA but they are out there, but this one isnt.  Its too bad too because its a good product but I wont take any chances till they know what is going on with the china imports.\n",
            "==================================================\n",
            "The Candy Blocks were a nice visual for the Lego Birthday party but the candy has little taste to it.  Very little of the 2 lbs that I bought were eaten and I threw the rest away.  I would not buy the candy again.\n",
            "==================================================\n",
            "was way to hot for my blood, took a bite and did a jig  lol\n",
            "==================================================\n",
            "My dog LOVES these treats. They tend to have a very strong fish oil smell. So if you are afraid of the fishy smell, don't get it. But I think my dog likes it because of the smell. These treats are really small in size. They are great for training. You can give your dog several of these without worrying about him over eating. Amazon's price was much more reasonable than any other retailer. You can buy a 1 pound bag on Amazon for almost the same price as a 6 ounce bag at other retailers. It's definitely worth it to buy a big bag if your dog eats them a lot.\n",
            "==================================================\n"
          ]
        }
      ],
      "source": [
        "# printing some random reviews\n",
        "sent_0 = final['Text'].values[0]\n",
        "print(sent_0)\n",
        "print(\"=\"*50)\n",
        "\n",
        "sent_1000 = final['Text'].values[1000]\n",
        "print(sent_1000)\n",
        "print(\"=\"*50)\n",
        "\n",
        "sent_1500 = final['Text'].values[1500]\n",
        "print(sent_1500)\n",
        "print(\"=\"*50)\n",
        "\n",
        "sent_4900 = final['Text'].values[4900]\n",
        "print(sent_4900)\n",
        "print(\"=\"*50)"
      ]
    },
    {
      "cell_type": "code",
      "execution_count": null,
      "metadata": {
        "colab": {
          "base_uri": "https://localhost:8080/",
          "height": 55
        },
        "id": "yZRuUpfOTG-v",
        "outputId": "2a84be92-0d49-4f71-c0fa-28fcdb8b1e63"
      },
      "outputs": [
        {
          "name": "stdout",
          "output_type": "stream",
          "text": [
            "My dogs loves this chicken but its a product from China, so we wont be buying it anymore.  Its very hard to find any chicken products made in the USA but they are out there, but this one isnt.  Its too bad too because its a good product but I wont take any chances till they know what is going on with the china imports.\n"
          ]
        }
      ],
      "source": [
        "# remove urls from text python: https://stackoverflow.com/a/40823105/4084039\n",
        "sent_0 = re.sub(r\"http\\S+\", \"\", sent_0)\n",
        "sent_1000 = re.sub(r\"http\\S+\", \"\", sent_1000)\n",
        "sent_150 = re.sub(r\"http\\S+\", \"\", sent_1500)\n",
        "sent_4900 = re.sub(r\"http\\S+\", \"\", sent_4900)\n",
        "\n",
        "print(sent_0)"
      ]
    },
    {
      "cell_type": "code",
      "execution_count": null,
      "metadata": {
        "colab": {
          "base_uri": "https://localhost:8080/",
          "height": 159
        },
        "id": "pQ96oKVrTG_e",
        "outputId": "d44922dd-8293-40b1-86ec-5a52bbd8ac8a"
      },
      "outputs": [
        {
          "name": "stdout",
          "output_type": "stream",
          "text": [
            "My dogs loves this chicken but its a product from China, so we wont be buying it anymore.  Its very hard to find any chicken products made in the USA but they are out there, but this one isnt.  Its too bad too because its a good product but I wont take any chances till they know what is going on with the china imports.\n",
            "==================================================\n",
            "The Candy Blocks were a nice visual for the Lego Birthday party but the candy has little taste to it.  Very little of the 2 lbs that I bought were eaten and I threw the rest away.  I would not buy the candy again.\n",
            "==================================================\n",
            "was way to hot for my blood, took a bite and did a jig  lol\n",
            "==================================================\n",
            "My dog LOVES these treats. They tend to have a very strong fish oil smell. So if you are afraid of the fishy smell, don't get it. But I think my dog likes it because of the smell. These treats are really small in size. They are great for training. You can give your dog several of these without worrying about him over eating. Amazon's price was much more reasonable than any other retailer. You can buy a 1 pound bag on Amazon for almost the same price as a 6 ounce bag at other retailers. It's definitely worth it to buy a big bag if your dog eats them a lot.\n"
          ]
        }
      ],
      "source": [
        "# https://stackoverflow.com/questions/16206380/python-beautifulsoup-how-to-remove-all-tags-from-an-element\n",
        "from bs4 import BeautifulSoup\n",
        "\n",
        "soup = BeautifulSoup(sent_0, 'lxml')\n",
        "text = soup.get_text()\n",
        "print(text)\n",
        "print(\"=\"*50)\n",
        "\n",
        "soup = BeautifulSoup(sent_1000, 'lxml')\n",
        "text = soup.get_text()\n",
        "print(text)\n",
        "print(\"=\"*50)\n",
        "\n",
        "soup = BeautifulSoup(sent_1500, 'lxml')\n",
        "text = soup.get_text()\n",
        "print(text)\n",
        "print(\"=\"*50)\n",
        "\n",
        "soup = BeautifulSoup(sent_4900, 'lxml')\n",
        "text = soup.get_text()\n",
        "print(text)"
      ]
    },
    {
      "cell_type": "code",
      "execution_count": null,
      "metadata": {
        "collapsed": true,
        "id": "p3vDx-2GTG_2"
      },
      "outputs": [],
      "source": [
        "# https://stackoverflow.com/a/47091490/4084039\n",
        "import re\n",
        "\n",
        "def decontracted(phrase):\n",
        "    # specific\n",
        "    phrase = re.sub(r\"won't\", \"will not\", phrase)\n",
        "    phrase = re.sub(r\"can\\'t\", \"can not\", phrase)\n",
        "\n",
        "    # general\n",
        "    phrase = re.sub(r\"n\\'t\", \" not\", phrase)\n",
        "    phrase = re.sub(r\"\\'re\", \" are\", phrase)\n",
        "    phrase = re.sub(r\"\\'s\", \" is\", phrase)\n",
        "    phrase = re.sub(r\"\\'d\", \" would\", phrase)\n",
        "    phrase = re.sub(r\"\\'ll\", \" will\", phrase)\n",
        "    phrase = re.sub(r\"\\'t\", \" not\", phrase)\n",
        "    phrase = re.sub(r\"\\'ve\", \" have\", phrase)\n",
        "    phrase = re.sub(r\"\\'m\", \" am\", phrase)\n",
        "    return phrase"
      ]
    },
    {
      "cell_type": "code",
      "execution_count": null,
      "metadata": {
        "colab": {
          "base_uri": "https://localhost:8080/",
          "height": 52
        },
        "id": "a4AWSmsNTHAb",
        "outputId": "519b44a2-ac81-4a13-d2f4-8742899e2734"
      },
      "outputs": [
        {
          "name": "stdout",
          "output_type": "stream",
          "text": [
            "was way to hot for my blood, took a bite and did a jig  lol\n",
            "==================================================\n"
          ]
        }
      ],
      "source": [
        "sent_1500 = decontracted(sent_1500)\n",
        "print(sent_1500)\n",
        "print(\"=\"*50)"
      ]
    },
    {
      "cell_type": "code",
      "execution_count": null,
      "metadata": {
        "colab": {
          "base_uri": "https://localhost:8080/",
          "height": 55
        },
        "id": "JSSCZDfBTHAw",
        "outputId": "c3ba58ba-f699-40ea-bd5e-f8dcc5416207"
      },
      "outputs": [
        {
          "name": "stdout",
          "output_type": "stream",
          "text": [
            "My dogs loves this chicken but its a product from China, so we wont be buying it anymore.  Its very hard to find any chicken products made in the USA but they are out there, but this one isnt.  Its too bad too because its a good product but I wont take any chances till they know what is going on with the china imports.\n"
          ]
        }
      ],
      "source": [
        "#remove words with numbers python: https://stackoverflow.com/a/18082370/4084039\n",
        "sent_0 = re.sub(\"\\S*\\d\\S*\", \"\", sent_0).strip()\n",
        "print(sent_0)"
      ]
    },
    {
      "cell_type": "code",
      "execution_count": null,
      "metadata": {
        "colab": {
          "base_uri": "https://localhost:8080/",
          "height": 35
        },
        "id": "rnYlZK4rTHBD",
        "outputId": "0827d623-b86b-48ce-94ac-d72125c7d90b"
      },
      "outputs": [
        {
          "name": "stdout",
          "output_type": "stream",
          "text": [
            "was way to hot for my blood took a bite and did a jig lol\n"
          ]
        }
      ],
      "source": [
        "#remove spacial character: https://stackoverflow.com/a/5843547/4084039\n",
        "sent_1500 = re.sub('[^A-Za-z0-9]+', ' ', sent_1500)\n",
        "print(sent_1500)"
      ]
    },
    {
      "cell_type": "code",
      "execution_count": null,
      "metadata": {
        "collapsed": true,
        "id": "ArzjS3M3THBg"
      },
      "outputs": [],
      "source": [
        "# https://gist.github.com/sebleier/554280\n",
        "# we are removing the words from the stop words list: 'no', 'nor', 'not'\n",
        "# <br /><br /> ==> after the above steps, we are getting \"br br\"\n",
        "# we are including them into stop words list\n",
        "# instead of <br /> if we have <br/> these tags would have revmoved in the 1st step\n",
        "\n",
        "stopwords= set(['br', 'the', 'i', 'me', 'my', 'myself', 'we', 'our', 'ours', 'ourselves', 'you', \"you're\", \"you've\",\\\n",
        "            \"you'll\", \"you'd\", 'your', 'yours', 'yourself', 'yourselves', 'he', 'him', 'his', 'himself', \\\n",
        "            'she', \"she's\", 'her', 'hers', 'herself', 'it', \"it's\", 'its', 'itself', 'they', 'them', 'their',\\\n",
        "            'theirs', 'themselves', 'what', 'which', 'who', 'whom', 'this', 'that', \"that'll\", 'these', 'those', \\\n",
        "            'am', 'is', 'are', 'was', 'were', 'be', 'been', 'being', 'have', 'has', 'had', 'having', 'do', 'does', \\\n",
        "            'did', 'doing', 'a', 'an', 'the', 'and', 'but', 'if', 'or', 'because', 'as', 'until', 'while', 'of', \\\n",
        "            'at', 'by', 'for', 'with', 'about', 'against', 'between', 'into', 'through', 'during', 'before', 'after',\\\n",
        "            'above', 'below', 'to', 'from', 'up', 'down', 'in', 'out', 'on', 'off', 'over', 'under', 'again', 'further',\\\n",
        "            'then', 'once', 'here', 'there', 'when', 'where', 'why', 'how', 'all', 'any', 'both', 'each', 'few', 'more',\\\n",
        "            'most', 'other', 'some', 'such', 'only', 'own', 'same', 'so', 'than', 'too', 'very', \\\n",
        "            's', 't', 'can', 'will', 'just', 'don', \"don't\", 'should', \"should've\", 'now', 'd', 'll', 'm', 'o', 're', \\\n",
        "            've', 'y', 'ain', 'aren', \"aren't\", 'couldn', \"couldn't\", 'didn', \"didn't\", 'doesn', \"doesn't\", 'hadn',\\\n",
        "            \"hadn't\", 'hasn', \"hasn't\", 'haven', \"haven't\", 'isn', \"isn't\", 'ma', 'mightn', \"mightn't\", 'mustn',\\\n",
        "            \"mustn't\", 'needn', \"needn't\", 'shan', \"shan't\", 'shouldn', \"shouldn't\", 'wasn', \"wasn't\", 'weren', \"weren't\", \\\n",
        "            'won', \"won't\", 'wouldn', \"wouldn't\"])"
      ]
    },
    {
      "cell_type": "code",
      "execution_count": null,
      "metadata": {
        "colab": {
          "base_uri": "https://localhost:8080/",
          "height": 35
        },
        "id": "bHsU6ZcuTHBx",
        "outputId": "b24338d2-94cd-47c4-ca7e-15530c20ecd9"
      },
      "outputs": [
        {
          "name": "stderr",
          "output_type": "stream",
          "text": [
            "100%|██████████| 87773/87773 [00:34<00:00, 2540.20it/s]\n"
          ]
        }
      ],
      "source": [
        "# Combining all the above stundents \n",
        "from tqdm import tqdm\n",
        "preprocessed_reviews = []\n",
        "# tqdm is for printing the status bar\n",
        "for sentance in tqdm(final['Text'].values):\n",
        "    sentance = re.sub(r\"http\\S+\", \"\", sentance)\n",
        "    sentance = BeautifulSoup(sentance, 'lxml').get_text()\n",
        "    sentance = decontracted(sentance)\n",
        "    sentance = re.sub(\"\\S*\\d\\S*\", \"\", sentance).strip()\n",
        "    sentance = re.sub('[^A-Za-z]+', ' ', sentance)\n",
        "    # https://gist.github.com/sebleier/554280\n",
        "    sentance = ' '.join(e.lower() for e in sentance.split() if e.lower() not in stopwords)\n",
        "    preprocessed_reviews.append(sentance.strip())"
      ]
    },
    {
      "cell_type": "code",
      "execution_count": null,
      "metadata": {
        "colab": {
          "base_uri": "https://localhost:8080/",
          "height": 34
        },
        "id": "o773wVmKTHCQ",
        "outputId": "c7b6b927-af95-4b51-9058-14bfe2f2d7da"
      },
      "outputs": [
        {
          "data": {
            "text/plain": [
              "'way hot blood took bite jig lol'"
            ]
          },
          "execution_count": 24,
          "metadata": {
            "tags": []
          },
          "output_type": "execute_result"
        }
      ],
      "source": [
        "preprocessed_reviews[1500]"
      ]
    },
    {
      "cell_type": "code",
      "execution_count": null,
      "metadata": {
        "collapsed": true,
        "id": "InNpXmLByA2P"
      },
      "outputs": [],
      "source": [
        "# Confusion matrix print function \n",
        "def ConfusionMatrixPrint(cm):\n",
        "  class_label = [\"negative\", \"positive\"]\n",
        "  df_cm = pd.DataFrame(cm, index = class_label, columns = class_label)\n",
        "  sns.heatmap(df_cm, annot = True, fmt = \"d\")\n",
        "  plt.title(\"Confusiion Matrix\")\n",
        "  plt.xlabel(\"Predicted Label\")\n",
        "  plt.ylabel(\"True Label\")\n",
        "  plt.show()\n",
        "  \n",
        "def ROCCurvePrint(fpr,tpr, fpr_tr, tpr_tr):\n",
        "  plt.figure()\n",
        "  plt.plot(fpr, tpr,label='Test ROC curve' ,\n",
        "           color='darkorange', linestyle=':', linewidth=4)\n",
        "\n",
        "  plt.plot(fpr_tr, tpr_tr,label='Train ROC curve',\n",
        "           color='navy', linestyle=':', linewidth=4)\n",
        "  plt.plot([0, 1], [0, 1], 'k--')\n",
        "  plt.xlim([0.0, 1.0])\n",
        "  plt.ylim([0.0, 1.05])\n",
        "  plt.xlabel('False Positive Rate')\n",
        "  plt.ylabel('True Positive Rate')\n",
        "  plt.title('ROC CURVE ')\n",
        "  plt.legend(loc=\"lower right\")\n",
        "  plt.show()\n",
        "\n",
        "class MidpointNormalize(Normalize):\n",
        "\n",
        "    def __init__(self, vmin=None, vmax=None, midpoint=None, clip=False):\n",
        "        self.midpoint = midpoint\n",
        "        Normalize.__init__(self, vmin, vmax, clip)\n",
        "\n",
        "    def __call__(self, value, clip=None):\n",
        "        x, y = [self.vmin, self.midpoint, self.vmax], [0, 0.5, 1]\n",
        "        return np.ma.masked_array(np.interp(value, x, y))"
      ]
    },
    {
      "cell_type": "code",
      "execution_count": null,
      "metadata": {
        "colab": {
          "base_uri": "https://localhost:8080/",
          "height": 104
        },
        "id": "QNv0j7bMOAU_",
        "outputId": "9d975c4f-3d67-4d58-ee5f-c1032583f56d"
      },
      "outputs": [
        {
          "name": "stdout",
          "output_type": "stream",
          "text": [
            "87773\n",
            "87773\n",
            "1    73592\n",
            "0    14181\n",
            "Name: Score, dtype: int64\n"
          ]
        }
      ],
      "source": [
        "X = preprocessed_reviews\n",
        "y = final['Score']\n",
        "print(len(X))\n",
        "print(len(y))\n",
        "print(y.value_counts())\n",
        "# Random Splitting of data using train_test_split\n",
        "X_tr, X_test, y_tr, y_test = train_test_split(X, y, test_size=0.3, random_state=0)"
      ]
    },
    {
      "cell_type": "markdown",
      "metadata": {
        "id": "49whl6XlTHGC"
      },
      "source": [
        "\n",
        "##<font color='green'><b>Linear SVM"
      ]
    },
    {
      "cell_type": "markdown",
      "metadata": {
        "id": "xeyJOiPtTHGF"
      },
      "source": [
        "###<font color='green'><b>BOW"
      ]
    },
    {
      "cell_type": "code",
      "execution_count": null,
      "metadata": {
        "colab": {
          "base_uri": "https://localhost:8080/",
          "height": 86
        },
        "id": "6FsaSngnS01F",
        "outputId": "46e64c35-960d-4307-ee42-962286bf8090"
      },
      "outputs": [
        {
          "name": "stdout",
          "output_type": "stream",
          "text": [
            "Parameter ranges are \n",
            " {'alpha': [0.0001, 0.001, 0.01, 0.1, 1.0, 100.0, 1000.0, 10000.0], 'penalty': ['l1', 'l2']}\n",
            "Best Penalty: l2\n",
            "Best Alpha: 0.001\n"
          ]
        }
      ],
      "source": [
        "from sklearn import linear_model\n",
        "from sklearn.model_selection import GridSearchCV\n",
        "#learning vocabulary \n",
        "vectorizer =  CountVectorizer()\n",
        "vectorizer.fit(X_tr)\n",
        "train_data = vectorizer.transform(X_tr)\n",
        "svc = linear_model.SGDClassifier(loss = 'hinge')\n",
        "val = [10**-4, 10**-3, 10**-2, 10**-1, 1, 10**2, 10**3, 10**4]\n",
        "param_grid =  { 'alpha' : [float(i) for i in val],\n",
        "               'penalty': ['l1', 'l2']}\n",
        "\n",
        "print(\"Parameter ranges are \\n\",param_grid)\n",
        "clf = GridSearchCV(estimator=svc, param_grid=param_grid, scoring='roc_auc', cv=3, return_train_score=True)\n",
        "clf.fit(train_data, y_tr)\n",
        "print('Best Penalty:', clf.best_estimator_.get_params()['penalty'])\n",
        "print('Best Alpha:', clf.best_estimator_.get_params()['alpha'])"
      ]
    },
    {
      "cell_type": "code",
      "execution_count": null,
      "metadata": {
        "colab": {
          "base_uri": "https://localhost:8080/",
          "height": 386
        },
        "id": "Oi-T1hv8G1X9",
        "outputId": "30eca338-ff5e-49fa-f5d1-308006b22645"
      },
      "outputs": [
        {
          "data": {
            "image/png": "[encoded data removed]",
            "text/plain": [
              "<Figure size 576x432 with 2 Axes>"
            ]
          },
          "metadata": {
            "tags": []
          },
          "output_type": "display_data"
        }
      ],
      "source": [
        "scores = clf.cv_results_['mean_test_score'].reshape(\n",
        "                                                     len(param_grid['penalty']), len(param_grid['alpha']))\n",
        "\n",
        "plt.figure(figsize=(8, 6))\n",
        "plt.subplots_adjust(left=.2, right=0.95, bottom=0.15, top=0.95)\n",
        "plt.imshow(scores, interpolation='nearest', cmap=plt.cm.hot,\n",
        "           norm=MidpointNormalize(vmin=0.2, midpoint=0.92))\n",
        "plt.xlabel('alpha')\n",
        "plt.ylabel('penalty')\n",
        "plt.colorbar()\n",
        "plt.xticks(np.arange(len(param_grid['alpha'])), param_grid['alpha'], rotation=45)\n",
        "plt.yticks(np.arange(len((param_grid['penalty']))), param_grid['penalty'])\n",
        "plt.title('Validation accuracy on CV data')\n",
        "plt.show()"
      ]
    },
    {
      "cell_type": "code",
      "execution_count": null,
      "metadata": {
        "colab": {
          "base_uri": "https://localhost:8080/",
          "height": 386
        },
        "id": "Bx553EWYXZDG",
        "outputId": "fbf39831-53a6-450d-a404-801fadd113f0"
      },
      "outputs": [
        {
          "data": {
            "image/png": "[encoded data removed]",
            "text/plain": [
              "<Figure size 576x432 with 2 Axes>"
            ]
          },
          "metadata": {
            "tags": []
          },
          "output_type": "display_data"
        }
      ],
      "source": [
        "scores = clf.cv_results_['mean_train_score'].reshape(len(param_grid['penalty']), len(param_grid['alpha']))\n",
        "\n",
        "plt.figure(figsize=(8, 6))\n",
        "plt.subplots_adjust(left=.2, right=0.95, bottom=0.15, top=0.95)\n",
        "plt.imshow(scores, interpolation='nearest', cmap=plt.cm.hot,\n",
        "           norm=MidpointNormalize(vmin=0.2, midpoint=0.92))\n",
        "plt.xlabel('alpha')\n",
        "plt.ylabel('penalty')\n",
        "plt.colorbar()\n",
        "plt.xticks(np.arange(len(param_grid['alpha'])), param_grid['alpha'], rotation=45)\n",
        "plt.yticks(np.arange(len((param_grid['penalty']))), param_grid['penalty'])\n",
        "plt.title('Validation accuracy on train data')\n",
        "plt.show()"
      ]
    },
    {
      "cell_type": "code",
      "execution_count": null,
      "metadata": {
        "colab": {
          "base_uri": "https://localhost:8080/",
          "height": 260
        },
        "id": "D6uYL81XdzHE",
        "outputId": "9a0bc7bc-db5a-4980-e1bd-4ae824ba3c0f"
      },
      "outputs": [
        {
          "name": "stdout",
          "output_type": "stream",
          "text": [
            "\n",
            " Train Score **\n",
            "\n",
            "[[0.95220297 0.9884883  0.90436692 0.97079296 0.72969495 0.94058122\n",
            "  0.50764449 0.78849942]\n",
            " [0.5        0.52386032 0.5        0.43380807 0.5        0.4338083\n",
            "  0.5        0.43380696]]\n",
            "\n",
            " CV Score **\n",
            "\n",
            "[[0.90543259 0.92935202 0.89769717 0.93797531 0.72871881 0.92426268\n",
            "  0.50793372 0.78167963]\n",
            " [0.5        0.52258884 0.5        0.43338546 0.5        0.43338546\n",
            "  0.5        0.43338424]]\n"
          ]
        }
      ],
      "source": [
        "print(\"\\n Train Score **\\n\")\n",
        "print(clf.cv_results_['mean_train_score'].reshape(len(param_grid['penalty']), len(param_grid['alpha'])))\n",
        "print(\"\\n CV Score **\\n\")\n",
        "print(clf.cv_results_['mean_test_score'].reshape(len(param_grid['penalty']), len(param_grid['alpha'])))\n"
      ]
    },
    {
      "cell_type": "markdown",
      "metadata": {
        "id": "66tzIAfsemCf"
      },
      "source": [
        "#### Optimal Hyperparameter  is L2 penalty with value 0.001 "
      ]
    },
    {
      "cell_type": "code",
      "execution_count": null,
      "metadata": {
        "collapsed": true,
        "id": "5p1s3pkNekxN"
      },
      "outputs": [],
      "source": [
        "vectorizer =  CountVectorizer()\n",
        "vectorizer.fit(X_tr)\n",
        "train_data = vectorizer.transform(X_tr)\n",
        "test_dtm = vectorizer.transform(X_test)\n"
      ]
    },
    {
      "cell_type": "code",
      "execution_count": null,
      "metadata": {
        "colab": {
          "base_uri": "https://localhost:8080/",
          "height": 312
        },
        "id": "X9e1FLXRelPW",
        "outputId": "445bd141-c8d5-4c6c-e126-41bb61881e11"
      },
      "outputs": [
        {
          "data": {
            "text/plain": [
              "CalibratedClassifierCV(base_estimator=SGDClassifier(alpha=0.001, average=False,\n",
              "                                                    class_weight=None,\n",
              "                                                    early_stopping=False,\n",
              "                                                    epsilon=0.1, eta0=0.0,\n",
              "                                                    fit_intercept=True,\n",
              "                                                    l1_ratio=0.15,\n",
              "                                                    learning_rate='optimal',\n",
              "                                                    loss='hinge', max_iter=1000,\n",
              "                                                    n_iter_no_change=5,\n",
              "                                                    n_jobs=None, penalty='l2',\n",
              "                                                    power_t=0.5,\n",
              "                                                    random_state=None,\n",
              "                                                    shuffle=True, tol=0.001,\n",
              "                                                    validation_fraction=0.1,\n",
              "                                                    verbose=0,\n",
              "                                                    warm_start=False),\n",
              "                       cv=3, method='sigmoid')"
            ]
          },
          "execution_count": 36,
          "metadata": {
            "tags": []
          },
          "output_type": "execute_result"
        }
      ],
      "source": [
        "svc_base = linear_model.SGDClassifier(loss = 'hinge', penalty = 'l2', alpha = 0.001)\n",
        "svc = CalibratedClassifierCV(svc_base, cv=3)\n",
        "svc.fit(train_data,y_tr)\n"
      ]
    },
    {
      "cell_type": "code",
      "execution_count": null,
      "metadata": {
        "colab": {
          "base_uri": "https://localhost:8080/",
          "height": 955
        },
        "id": "qQ7LfGOyela3",
        "outputId": "29df51c4-6b13-447f-9478-9b41009baf1a"
      },
      "outputs": [
        {
          "name": "stdout",
          "output_type": "stream",
          "text": [
            "Confusion Matrix of train data \n",
            "\n"
          ]
        },
        {
          "data": {
            "image/png": "[encoded data removed]",
            "text/plain": [
              "<Figure size 432x288 with 2 Axes>"
            ]
          },
          "metadata": {
            "tags": []
          },
          "output_type": "display_data"
        },
        {
          "name": "stdout",
          "output_type": "stream",
          "text": [
            "Confusion Matrix of test data \n",
            "\n"
          ]
        },
        {
          "data": {
            "image/png": "[encoded data removed]",
            "text/plain": [
              "<Figure size 432x288 with 2 Axes>"
            ]
          },
          "metadata": {
            "tags": []
          },
          "output_type": "display_data"
        },
        {
          "name": "stdout",
          "output_type": "stream",
          "text": [
            "**** TEST AUC ***  0.7690601511869066\n",
            "**** TRAIN AUC *****  0.7908384300947204\n"
          ]
        },
        {
          "data": {
            "image/png": "[encoded data removed]",
            "text/plain": [
              "<Figure size 432x288 with 1 Axes>"
            ]
          },
          "metadata": {
            "tags": []
          },
          "output_type": "display_data"
        }
      ],
      "source": [
        "print(\"Confusion Matrix of train data \\n\")\n",
        "predict = svc.predict(train_data)\n",
        "cm = metrics.confusion_matrix(y_tr, predict)\n",
        "ConfusionMatrixPrint(cm)\n",
        "print(\"Confusion Matrix of test data \\n\")\n",
        "predict = svc.predict(test_dtm)\n",
        "cm = metrics.confusion_matrix(y_test, predict)\n",
        "ConfusionMatrixPrint(cm)\n",
        "y_cv_predict = np.array(svc.predict_proba(test_dtm))\n",
        "preds = np.max(y_cv_predict,axis=1)\n",
        "fpr, tpr, threshold = metrics.roc_curve(y_test, preds)\n",
        "roc_auc = metrics.auc(fpr, tpr)\n",
        "print(\"**** TEST AUC *** \", roc_auc)\n",
        "y_tr_predict = np.array(svc.predict_proba(train_data))\n",
        "y_tr_predict = np.max(y_tr_predict,axis=1)\n",
        "fpr_tr, tpr_tr, threshold_tr = metrics.roc_curve(y_tr, y_tr_predict)\n",
        "#calculating AUC\n",
        "auc = metrics.auc(fpr_tr, tpr_tr)\n",
        "print(\"**** TRAIN AUC ***** \", auc)\n",
        "ROCCurvePrint(fpr,tpr, fpr_tr, tpr_tr)"
      ]
    },
    {
      "cell_type": "markdown",
      "metadata": {
        "id": "r8tITJoyhKyy"
      },
      "source": [
        "#### The feature Importance, i.e., printing top 10 positive and printing top 10 negative features"
      ]
    },
    {
      "cell_type": "code",
      "execution_count": null,
      "metadata": {
        "colab": {
          "base_uri": "https://localhost:8080/",
          "height": 191
        },
        "id": "cCfanMCIhbEz",
        "outputId": "b1defe50-1fe5-49ca-d952-9f51078c2ae7"
      },
      "outputs": [
        {
          "name": "stdout",
          "output_type": "stream",
          "text": [
            "\t-0.9798\tworst          \t\t0.5719\tdelicious      \n",
            "\t-0.8636\tdisappointing  \t\t0.5602\tperfect        \n",
            "\t-0.7695\tterrible       \t\t0.5382\texcellent      \n",
            "\t-0.7648\tdisappointment \t\t0.5312\tamazing        \n",
            "\t-0.7648\tthrew          \t\t0.5091\tbest           \n",
            "\t-0.7369\thorrible       \t\t0.4882\tcomplaint      \n",
            "\t-0.7137\tawful          \t\t0.4870\twonderful      \n",
            "\t-0.6846\tdisappointed   \t\t0.4789\tgreat          \n",
            "\t-0.6381\tstale          \t\t0.4591\tyummy          \n",
            "\t-0.6242\trip            \t\t0.4487\tawesome        \n"
          ]
        }
      ],
      "source": [
        "svc = linear_model.SGDClassifier(loss = 'hinge', penalty = 'l2', alpha = 0.001)\n",
        "svc.fit(train_data,y_tr)\n",
        "feature_names = vectorizer.get_feature_names()\n",
        "coefs_with_fns = sorted(zip(svc.coef_[0], feature_names))\n",
        "top = zip(coefs_with_fns[:10], coefs_with_fns[:-(10+ 1):-1])\n",
        "for (coef_1, fn_1), (coef_2, fn_2) in top:\n",
        "    print (\"\\t%.4f\\t%-15s\\t\\t%.4f\\t%-15s\"% (coef_1, fn_1, coef_2, fn_2))"
      ]
    },
    {
      "cell_type": "markdown",
      "metadata": {
        "id": "4QcluNeCyWb7"
      },
      "source": [
        "###<font color='green'><b>Tf-Idf\n",
        "\n",
        "\n",
        "\n"
      ]
    },
    {
      "cell_type": "code",
      "execution_count": null,
      "metadata": {
        "colab": {
          "base_uri": "https://localhost:8080/",
          "height": 86
        },
        "id": "8lz2Tl6Sgk77",
        "outputId": "04e9568c-435c-4fc2-a210-5d2188980052"
      },
      "outputs": [
        {
          "name": "stdout",
          "output_type": "stream",
          "text": [
            "Parameter ranges are \n",
            " {'alpha': [0.0001, 0.001, 0.01, 0.1, 1.0, 100.0, 1000.0, 10000.0], 'penalty': ['l1', 'l2']}\n",
            "Best Penalty: l2\n",
            "Best Alpha: 0.0001\n"
          ]
        }
      ],
      "source": [
        "from sklearn import linear_model\n",
        "from sklearn.model_selection import GridSearchCV\n",
        "#learning vocabulary \n",
        "vectorizer =  TfidfVectorizer()\n",
        "vectorizer.fit(X_tr)\n",
        "train_data = vectorizer.transform(X_tr)\n",
        "svc = linear_model.SGDClassifier(loss = 'hinge')\n",
        "val = [10**-4, 10**-3, 10**-2, 10**-1, 1, 10**2, 10**3, 10**4]\n",
        "param_grid =  { 'alpha' : [float(i) for i in val],\n",
        "               'penalty': ['l1', 'l2']}\n",
        "\n",
        "print(\"Parameter ranges are \\n\",param_grid)\n",
        "clf = GridSearchCV(estimator=svc, param_grid=param_grid, scoring='roc_auc', cv=3, return_train_score=True)\n",
        "clf.fit(train_data, y_tr)\n",
        "print('Best Penalty:', clf.best_estimator_.get_params()['penalty'])\n",
        "print('Best Alpha:', clf.best_estimator_.get_params()['alpha'])"
      ]
    },
    {
      "cell_type": "code",
      "execution_count": null,
      "metadata": {
        "colab": {
          "base_uri": "https://localhost:8080/",
          "height": 386
        },
        "id": "hZzBFXkGgk8C",
        "outputId": "9aac29b7-1e3f-41e7-9c03-c967d65b5c34"
      },
      "outputs": [
        {
          "data": {
            "image/png": "[encoded data removed]",
            "text/plain": [
              "<Figure size 576x432 with 2 Axes>"
            ]
          },
          "metadata": {
            "tags": []
          },
          "output_type": "display_data"
        }
      ],
      "source": [
        "scores = clf.cv_results_['mean_test_score'].reshape(\n",
        "                                                     len(param_grid['penalty']), len(param_grid['alpha']))\n",
        "\n",
        "plt.figure(figsize=(8, 6))\n",
        "plt.subplots_adjust(left=.2, right=0.95, bottom=0.15, top=0.95)\n",
        "plt.imshow(scores, interpolation='nearest', cmap=plt.cm.hot,\n",
        "           norm=MidpointNormalize(vmin=0.2, midpoint=0.92))\n",
        "plt.xlabel('alpha')\n",
        "plt.ylabel('penalty')\n",
        "plt.colorbar()\n",
        "plt.xticks(np.arange(len(param_grid['alpha'])), param_grid['alpha'], rotation=45)\n",
        "plt.yticks(np.arange(len((param_grid['penalty']))), param_grid['penalty'])\n",
        "plt.title('Validation accuracy on CV data')\n",
        "plt.show()"
      ]
    },
    {
      "cell_type": "code",
      "execution_count": null,
      "metadata": {
        "colab": {
          "base_uri": "https://localhost:8080/",
          "height": 386
        },
        "id": "_3HmU9kFgk8G",
        "outputId": "e05aabfe-04ad-473d-82de-6fc221b9d46f"
      },
      "outputs": [
        {
          "data": {
            "image/png": "[encoded data removed]",
            "text/plain": [
              "<Figure size 576x432 with 2 Axes>"
            ]
          },
          "metadata": {
            "tags": []
          },
          "output_type": "display_data"
        }
      ],
      "source": [
        "scores = clf.cv_results_['mean_train_score'].reshape(\n",
        "                                                     len(param_grid['penalty']), len(param_grid['alpha']))\n",
        "\n",
        "plt.figure(figsize=(8, 6))\n",
        "plt.subplots_adjust(left=.2, right=0.95, bottom=0.15, top=0.95)\n",
        "plt.imshow(scores, interpolation='nearest', cmap=plt.cm.hot,\n",
        "           norm=MidpointNormalize(vmin=0.2, midpoint=0.92))\n",
        "plt.xlabel('alpha')\n",
        "plt.ylabel('penalty')\n",
        "plt.colorbar()\n",
        "plt.xticks(np.arange(len(param_grid['alpha'])), param_grid['alpha'], rotation=45)\n",
        "plt.yticks(np.arange(len((param_grid['penalty']))), param_grid['penalty'])\n",
        "plt.title('Validation accuracy on train data')\n",
        "plt.show()"
      ]
    },
    {
      "cell_type": "code",
      "execution_count": null,
      "metadata": {
        "colab": {
          "base_uri": "https://localhost:8080/",
          "height": 260
        },
        "id": "mw3tC8URp_-k",
        "outputId": "b2a3b651-401e-41e0-845e-2f9fd9199155"
      },
      "outputs": [
        {
          "name": "stdout",
          "output_type": "stream",
          "text": [
            "\n",
            " Train Score **\n",
            "\n",
            "[[0.93939945 0.96841033 0.7449647  0.957086   0.5        0.95713412\n",
            "  0.5        0.6231179 ]\n",
            " [0.5        0.60877053 0.5        0.60877053 0.5        0.60877053\n",
            "  0.5        0.60877053]]\n",
            "\n",
            " CV Score **\n",
            "\n",
            "[[0.93264566 0.9481994  0.74482306 0.94166312 0.5        0.94177499\n",
            "  0.5        0.62005627]\n",
            " [0.5        0.60617725 0.5        0.60617725 0.5        0.60617725\n",
            "  0.5        0.60617725]]\n"
          ]
        }
      ],
      "source": [
        "print(\"\\n Train Score **\\n\")\n",
        "print(clf.cv_results_['mean_train_score'].reshape(len(param_grid['penalty']), len(param_grid['alpha'])))\n",
        "print(\"\\n CV Score **\\n\")\n",
        "print(clf.cv_results_['mean_test_score'].reshape(len(param_grid['penalty']), len(param_grid['alpha'])))\n"
      ]
    },
    {
      "cell_type": "markdown",
      "metadata": {
        "id": "mt6nct2Dp_-o"
      },
      "source": [
        "#### Optimal Hyperparameter  is L2 penalty with value 0.0001 "
      ]
    },
    {
      "cell_type": "code",
      "execution_count": null,
      "metadata": {
        "collapsed": true,
        "id": "UhVu3tM_p_-o"
      },
      "outputs": [],
      "source": [
        "vectorizer =  CountVectorizer()\n",
        "vectorizer.fit(X_tr)\n",
        "train_data = vectorizer.transform(X_tr)\n",
        "test_dtm = vectorizer.transform(X_test)\n"
      ]
    },
    {
      "cell_type": "code",
      "execution_count": null,
      "metadata": {
        "colab": {
          "base_uri": "https://localhost:8080/",
          "height": 312
        },
        "id": "DCvs7I2Fp_-p",
        "outputId": "c43324e2-db92-481d-9ef4-253ab008fb13"
      },
      "outputs": [
        {
          "data": {
            "text/plain": [
              "CalibratedClassifierCV(base_estimator=SGDClassifier(alpha=0.0001, average=False,\n",
              "                                                    class_weight=None,\n",
              "                                                    early_stopping=False,\n",
              "                                                    epsilon=0.1, eta0=0.0,\n",
              "                                                    fit_intercept=True,\n",
              "                                                    l1_ratio=0.15,\n",
              "                                                    learning_rate='optimal',\n",
              "                                                    loss='hinge', max_iter=1000,\n",
              "                                                    n_iter_no_change=5,\n",
              "                                                    n_jobs=None, penalty='l2',\n",
              "                                                    power_t=0.5,\n",
              "                                                    random_state=None,\n",
              "                                                    shuffle=True, tol=0.001,\n",
              "                                                    validation_fraction=0.1,\n",
              "                                                    verbose=0,\n",
              "                                                    warm_start=False),\n",
              "                       cv=3, method='sigmoid')"
            ]
          },
          "execution_count": 47,
          "metadata": {
            "tags": []
          },
          "output_type": "execute_result"
        }
      ],
      "source": [
        "svc_base = linear_model.SGDClassifier(loss = 'hinge', penalty = 'l2', alpha = 0.0001)\n",
        "svc = CalibratedClassifierCV(svc_base, cv=3)\n",
        "svc.fit(train_data,y_tr)\n"
      ]
    },
    {
      "cell_type": "code",
      "execution_count": null,
      "metadata": {
        "colab": {
          "base_uri": "https://localhost:8080/",
          "height": 955
        },
        "id": "S-SxSjrrp_-q",
        "outputId": "7f295a41-9c15-49b5-d2fb-1c0cbb23e16b"
      },
      "outputs": [
        {
          "name": "stdout",
          "output_type": "stream",
          "text": [
            "Confusion Matrix of train data \n",
            "\n"
          ]
        },
        {
          "data": {
            "image/png": "[encoded data removed]",
            "text/plain": [
              "<Figure size 432x288 with 2 Axes>"
            ]
          },
          "metadata": {
            "tags": []
          },
          "output_type": "display_data"
        },
        {
          "name": "stdout",
          "output_type": "stream",
          "text": [
            "Confusion Matrix of test data \n",
            "\n"
          ]
        },
        {
          "data": {
            "image/png": "[encoded data removed]",
            "text/plain": [
              "<Figure size 432x288 with 2 Axes>"
            ]
          },
          "metadata": {
            "tags": []
          },
          "output_type": "display_data"
        },
        {
          "name": "stdout",
          "output_type": "stream",
          "text": [
            "**** TEST AUC ***  0.8560769939883397\n",
            "**** TRAIN AUC *****  0.906636899417005\n"
          ]
        },
        {
          "data": {
            "image/png": "[encoded data removed]",
            "text/plain": [
              "<Figure size 432x288 with 1 Axes>"
            ]
          },
          "metadata": {
            "tags": []
          },
          "output_type": "display_data"
        }
      ],
      "source": [
        "print(\"Confusion Matrix of train data \\n\")\n",
        "predict = svc.predict(train_data)\n",
        "cm = metrics.confusion_matrix(y_tr, predict)\n",
        "ConfusionMatrixPrint(cm)\n",
        "print(\"Confusion Matrix of test data \\n\")\n",
        "predict = svc.predict(test_dtm)\n",
        "cm = metrics.confusion_matrix(y_test, predict)\n",
        "ConfusionMatrixPrint(cm)\n",
        "y_cv_predict = np.array(svc.predict_proba(test_dtm))\n",
        "preds = np.max(y_cv_predict,axis=1)\n",
        "fpr, tpr, threshold = metrics.roc_curve(y_test, preds)\n",
        "roc_auc = metrics.auc(fpr, tpr)\n",
        "print(\"**** TEST AUC *** \", roc_auc)\n",
        "y_tr_predict = np.array(svc.predict_proba(train_data))\n",
        "y_tr_predict = np.max(y_tr_predict,axis=1)\n",
        "fpr_tr, tpr_tr, threshold_tr = metrics.roc_curve(y_tr, y_tr_predict)\n",
        "#calculating AUC\n",
        "auc = metrics.auc(fpr_tr, tpr_tr)\n",
        "print(\"**** TRAIN AUC ***** \", auc)\n",
        "ROCCurvePrint(fpr,tpr, fpr_tr, tpr_tr)"
      ]
    },
    {
      "cell_type": "markdown",
      "metadata": {
        "id": "8rebJ_RTp_-s"
      },
      "source": [
        "#### The feature Importance, i.e., printing top 10 positive and printing top 10 negative features"
      ]
    },
    {
      "cell_type": "code",
      "execution_count": null,
      "metadata": {
        "colab": {
          "base_uri": "https://localhost:8080/",
          "height": 191
        },
        "id": "GeTAnDMNp_-t",
        "outputId": "645f608a-c612-471b-aa44-a264f04aef9e"
      },
      "outputs": [
        {
          "name": "stdout",
          "output_type": "stream",
          "text": [
            "\t-0.9872\tworst          \t\t0.5695\tdelicious      \n",
            "\t-0.8679\tdisappointing  \t\t0.5468\tperfect        \n",
            "\t-0.7767\tterrible       \t\t0.5446\texcellent      \n",
            "\t-0.7692\tthrew          \t\t0.5131\tamazing        \n",
            "\t-0.7670\tdisappointment \t\t0.4914\tcomplaint      \n",
            "\t-0.7409\thorrible       \t\t0.4893\tgreat          \n",
            "\t-0.7127\tawful          \t\t0.4871\twonderful      \n",
            "\t-0.7008\tdisappointed   \t\t0.4806\tbest           \n",
            "\t-0.6357\tstale          \t\t0.4480\tyummy          \n",
            "\t-0.6260\trip            \t\t0.4394\tloves          \n"
          ]
        }
      ],
      "source": [
        "svc = linear_model.SGDClassifier(loss = 'hinge', penalty = 'l2', alpha = 0.001)\n",
        "svc.fit(train_data,y_tr)\n",
        "feature_names = vectorizer.get_feature_names()\n",
        "# print(svc.coef_[0])\n",
        "coefs_with_fns = sorted(zip(svc.coef_[0], feature_names))\n",
        "# print(coefs_with_fns)\n",
        "top = zip(coefs_with_fns[:10], coefs_with_fns[:-(10+ 1):-1])\n",
        "for (coef_1, fn_1), (coef_2, fn_2) in top:\n",
        "    print (\"\\t%.4f\\t%-15s\\t\\t%.4f\\t%-15s\"% (coef_1, fn_1, coef_2, fn_2))"
      ]
    },
    {
      "cell_type": "markdown",
      "metadata": {
        "id": "2vS9RYOzgvZU"
      },
      "source": [
        "###<font color='green'><b>Avg W2V"
      ]
    },
    {
      "cell_type": "code",
      "execution_count": null,
      "metadata": {
        "collapsed": true,
        "id": "bT4Dm8fiDYNL"
      },
      "outputs": [],
      "source": [
        "training_words = []\n",
        "for sentance in X_tr:\n",
        "    training_words.append(sentance.split())\n",
        "w2v_model=Word2Vec(training_words,min_count=5,size=50, workers=4)"
      ]
    },
    {
      "cell_type": "code",
      "execution_count": null,
      "metadata": {
        "collapsed": true,
        "id": "IXKXtwiTosQ-"
      },
      "outputs": [],
      "source": [
        "w2v_words = list(w2v_model.wv.vocab)\n",
        "X_tr_vectors = []; # the avg-w2v for each sentence/review is stored in this list\n",
        "# print(w2v_model.wv.vocab)\n",
        "for sent in (training_words): # for each review/sentence\n",
        "    sent_vec = np.zeros(50) # as word vectors are of zero length 50, you might need to change this to 300 if you use google's w2v\n",
        "    cnt_words =0; # num of words with a valid vector in the sentence/review\n",
        "    for word in sent: # for each word in a review/sentence\n",
        "        if word in w2v_words:\n",
        "            vec = w2v_model.wv[word]\n",
        "            sent_vec += vec\n",
        "            cnt_words += 1\n",
        "    if cnt_words != 0:\n",
        "        sent_vec /= cnt_words\n",
        "    X_tr_vectors.append(sent_vec)\n"
      ]
    },
    {
      "cell_type": "code",
      "execution_count": null,
      "metadata": {
        "collapsed": true,
        "id": "NzYfoFjexqFZ"
      },
      "outputs": [],
      "source": [
        "test_words = []\n",
        "for sentance in X_test:\n",
        "    test_words.append(sentance.split())\n",
        "\n",
        "X_test_vectors = []; # the avg-w2v for each sentence/review is stored in this list\n",
        "# print(w2v_model.wv.vocab)\n",
        "for sent in test_words: # for each review/sentence\n",
        "    sent_vec = np.zeros(50) # as word vectors are of zero length 50, you might need to change this to 300 if you use google's w2v\n",
        "    cnt_words =0; # num of words with a valid vector in the sentence/review\n",
        "    for word in sent: # for each word in a review/sentence\n",
        "        if word in w2v_words:\n",
        "            vec = w2v_model.wv[word]\n",
        "            sent_vec += vec\n",
        "            cnt_words += 1\n",
        "    if cnt_words != 0:\n",
        "        sent_vec /= cnt_words\n",
        "    X_test_vectors.append(sent_vec)"
      ]
    },
    {
      "cell_type": "code",
      "execution_count": null,
      "metadata": {
        "colab": {
          "base_uri": "https://localhost:8080/",
          "height": 86
        },
        "id": "2OkzjDXPn-9N",
        "outputId": "b7e2c454-eb83-47aa-c0f4-61087cce79c5"
      },
      "outputs": [
        {
          "name": "stdout",
          "output_type": "stream",
          "text": [
            "Parameter ranges are \n",
            " {'alpha': [0.0001, 0.001, 0.01, 0.1, 1.0, 100.0, 1000.0, 10000.0], 'penalty': ['l1', 'l2']}\n",
            "Best Penalty: l2\n",
            "Best Alpha: 0.001\n"
          ]
        }
      ],
      "source": [
        "from sklearn import linear_model\n",
        "from sklearn.model_selection import GridSearchCV\n",
        "svc = linear_model.SGDClassifier(loss = 'hinge')\n",
        "val = [10**-4, 10**-3, 10**-2, 10**-1, 1, 10**2, 10**3, 10**4]\n",
        "param_grid =  { 'alpha' : [float(i) for i in val],\n",
        "               'penalty': ['l1', 'l2']}\n",
        "\n",
        "print(\"Parameter ranges are \\n\",param_grid)\n",
        "clf = GridSearchCV(estimator=svc, param_grid=param_grid, scoring='roc_auc', cv=3, return_train_score=True)\n",
        "clf.fit(X_tr_vectors, y_tr)\n",
        "print('Best Penalty:', clf.best_estimator_.get_params()['penalty'])\n",
        "print('Best Alpha:', clf.best_estimator_.get_params()['alpha'])"
      ]
    },
    {
      "cell_type": "code",
      "execution_count": null,
      "metadata": {
        "colab": {
          "base_uri": "https://localhost:8080/",
          "height": 386
        },
        "id": "QeWSccmwn-9P",
        "outputId": "1ebf4411-9be9-424a-ff5b-522e7209592a"
      },
      "outputs": [
        {
          "data": {
            "image/png": "[encoded data removed]",
            "text/plain": [
              "<Figure size 576x432 with 2 Axes>"
            ]
          },
          "metadata": {
            "tags": []
          },
          "output_type": "display_data"
        }
      ],
      "source": [
        "scores = clf.cv_results_['mean_test_score'].reshape(\n",
        "                                                     len(param_grid['penalty']), len(param_grid['alpha']))\n",
        "\n",
        "plt.figure(figsize=(8, 6))\n",
        "plt.subplots_adjust(left=.2, right=0.95, bottom=0.15, top=0.95)\n",
        "plt.imshow(scores, interpolation='nearest', cmap=plt.cm.hot,\n",
        "           norm=MidpointNormalize(vmin=0.2, midpoint=0.92))\n",
        "plt.xlabel('alpha')\n",
        "plt.ylabel('penalty')\n",
        "plt.colorbar()\n",
        "plt.xticks(np.arange(len(param_grid['alpha'])), param_grid['alpha'], rotation=45)\n",
        "plt.yticks(np.arange(len((param_grid['penalty']))), param_grid['penalty'])\n",
        "plt.title('Validation accuracy on CV data')\n",
        "plt.show()"
      ]
    },
    {
      "cell_type": "code",
      "execution_count": null,
      "metadata": {
        "colab": {
          "base_uri": "https://localhost:8080/",
          "height": 386
        },
        "id": "_-jlvbBqn-9S",
        "outputId": "5f5e07c6-7f55-4a07-a873-b94d956aee88"
      },
      "outputs": [
        {
          "data": {
            "image/png": "[encoded data removed]",
            "text/plain": [
              "<Figure size 576x432 with 2 Axes>"
            ]
          },
          "metadata": {
            "tags": []
          },
          "output_type": "display_data"
        }
      ],
      "source": [
        "scores = clf.cv_results_['mean_train_score'].reshape(\n",
        "                                                     len(param_grid['penalty']), len(param_grid['alpha']))\n",
        "\n",
        "plt.figure(figsize=(8, 6))\n",
        "plt.subplots_adjust(left=.2, right=0.95, bottom=0.15, top=0.95)\n",
        "plt.imshow(scores, interpolation='nearest', cmap=plt.cm.hot,\n",
        "           norm=MidpointNormalize(vmin=0.2, midpoint=0.92))\n",
        "plt.xlabel('alpha')\n",
        "plt.ylabel('penalty')\n",
        "plt.colorbar()\n",
        "plt.xticks(np.arange(len(param_grid['alpha'])), param_grid['alpha'], rotation=45)\n",
        "plt.yticks(np.arange(len((param_grid['penalty']))), param_grid['penalty'])\n",
        "plt.title('Validation accuracy on train data')\n",
        "plt.show()"
      ]
    },
    {
      "cell_type": "code",
      "execution_count": null,
      "metadata": {
        "colab": {
          "base_uri": "https://localhost:8080/",
          "height": 260
        },
        "id": "Ez_0JzoFn-9T",
        "outputId": "b780f8f7-bacb-40cc-9ef5-e7f2011e9096"
      },
      "outputs": [
        {
          "name": "stdout",
          "output_type": "stream",
          "text": [
            "\n",
            " Train Score **\n",
            "\n",
            "[[0.90500913 0.90419378 0.90522179 0.9051668  0.8472745  0.90465777\n",
            "  0.5        0.90294799]\n",
            " [0.5        0.89277385 0.5        0.63698885 0.5        0.63698851\n",
            "  0.5        0.63698851]]\n",
            "\n",
            " CV Score **\n",
            "\n",
            "[[0.90368864 0.90409061 0.90401966 0.90445844 0.84577357 0.90384565\n",
            "  0.5        0.90237826]\n",
            " [0.5        0.89199498 0.5        0.63690419 0.5        0.63690391\n",
            "  0.5        0.63690391]]\n"
          ]
        }
      ],
      "source": [
        "print(\"\\n Train Score **\\n\")\n",
        "print(clf.cv_results_['mean_train_score'].reshape(len(param_grid['penalty']), len(param_grid['alpha'])))\n",
        "print(\"\\n CV Score **\\n\")\n",
        "print(clf.cv_results_['mean_test_score'].reshape(len(param_grid['penalty']), len(param_grid['alpha'])))\n"
      ]
    },
    {
      "cell_type": "markdown",
      "metadata": {
        "id": "ElJsy4Uin-9V"
      },
      "source": [
        "#### Optimal Hyperparameter  is L2 penalty with value 0.001 "
      ]
    },
    {
      "cell_type": "code",
      "execution_count": null,
      "metadata": {
        "colab": {
          "base_uri": "https://localhost:8080/",
          "height": 312
        },
        "id": "9eqt9hDFn-9W",
        "outputId": "64ad3e1a-d28c-482b-9762-5acfa135dcaf"
      },
      "outputs": [
        {
          "data": {
            "text/plain": [
              "CalibratedClassifierCV(base_estimator=SGDClassifier(alpha=0.001, average=False,\n",
              "                                                    class_weight=None,\n",
              "                                                    early_stopping=False,\n",
              "                                                    epsilon=0.1, eta0=0.0,\n",
              "                                                    fit_intercept=True,\n",
              "                                                    l1_ratio=0.15,\n",
              "                                                    learning_rate='optimal',\n",
              "                                                    loss='hinge', max_iter=1000,\n",
              "                                                    n_iter_no_change=5,\n",
              "                                                    n_jobs=None, penalty='l2',\n",
              "                                                    power_t=0.5,\n",
              "                                                    random_state=None,\n",
              "                                                    shuffle=True, tol=0.001,\n",
              "                                                    validation_fraction=0.1,\n",
              "                                                    verbose=0,\n",
              "                                                    warm_start=False),\n",
              "                       cv=3, method='sigmoid')"
            ]
          },
          "execution_count": 59,
          "metadata": {
            "tags": []
          },
          "output_type": "execute_result"
        }
      ],
      "source": [
        "svc_base = linear_model.SGDClassifier(loss = 'hinge', penalty = 'l2', alpha = 0.001)\n",
        "svc = CalibratedClassifierCV(svc_base, cv=3)\n",
        "svc.fit(X_tr_vectors,y_tr)"
      ]
    },
    {
      "cell_type": "code",
      "execution_count": null,
      "metadata": {
        "colab": {
          "base_uri": "https://localhost:8080/",
          "height": 955
        },
        "id": "SYsuDenqn-9Y",
        "outputId": "f85a3be4-2730-43af-d715-cd6539804717"
      },
      "outputs": [
        {
          "name": "stdout",
          "output_type": "stream",
          "text": [
            "Confusion Matrix of train data \n",
            "\n"
          ]
        },
        {
          "data": {
            "image/png": "[encoded data removed]",
            "text/plain": [
              "<Figure size 432x288 with 2 Axes>"
            ]
          },
          "metadata": {
            "tags": []
          },
          "output_type": "display_data"
        },
        {
          "name": "stdout",
          "output_type": "stream",
          "text": [
            "Confusion Matrix of test data \n",
            "\n"
          ]
        },
        {
          "data": {
            "image/png": "[encoded data removed]",
            "text/plain": [
              "<Figure size 432x288 with 2 Axes>"
            ]
          },
          "metadata": {
            "tags": []
          },
          "output_type": "display_data"
        },
        {
          "name": "stdout",
          "output_type": "stream",
          "text": [
            "**** TEST AUC ***  0.8328502702970151\n",
            "**** TRAIN AUC *****  0.8356359033276786\n"
          ]
        },
        {
          "data": {
            "image/png": "[encoded data removed]",
            "text/plain": [
              "<Figure size 432x288 with 1 Axes>"
            ]
          },
          "metadata": {
            "tags": []
          },
          "output_type": "display_data"
        }
      ],
      "source": [
        "print(\"Confusion Matrix of train data \\n\")\n",
        "predict = svc.predict(X_tr_vectors)\n",
        "cm = metrics.confusion_matrix(y_tr, predict)\n",
        "ConfusionMatrixPrint(cm)\n",
        "print(\"Confusion Matrix of test data \\n\")\n",
        "predict = svc.predict(X_test_vectors)\n",
        "cm = metrics.confusion_matrix(y_test, predict)\n",
        "ConfusionMatrixPrint(cm)\n",
        "y_cv_predict = np.array(svc.predict_proba(X_test_vectors))\n",
        "preds = np.max(y_cv_predict,axis=1)\n",
        "fpr, tpr, threshold = metrics.roc_curve(y_test, preds)\n",
        "roc_auc = metrics.auc(fpr, tpr)\n",
        "print(\"**** TEST AUC *** \", roc_auc)\n",
        "y_tr_predict = np.array(svc.predict_proba(X_tr_vectors))\n",
        "y_tr_predict = np.max(y_tr_predict,axis=1)\n",
        "fpr_tr, tpr_tr, threshold_tr = metrics.roc_curve(y_tr, y_tr_predict)\n",
        "#calculating AUC\n",
        "auc = metrics.auc(fpr_tr, tpr_tr)\n",
        "print(\"**** TRAIN AUC ***** \", auc)\n",
        "ROCCurvePrint(fpr,tpr, fpr_tr, tpr_tr)"
      ]
    },
    {
      "cell_type": "markdown",
      "metadata": {
        "id": "kk455f7lgvc1"
      },
      "source": [
        "###<font color='green'><b>Tf-Idf W2V"
      ]
    },
    {
      "cell_type": "code",
      "execution_count": null,
      "metadata": {
        "collapsed": true,
        "id": "Z9tFDe5_DYNQ"
      },
      "outputs": [],
      "source": [
        "training_words = []\n",
        "for sentance in X_tr:\n",
        "    training_words.append(sentance.split())\n",
        "w2v_model=Word2Vec(training_words,min_count=5,size=50, workers=4)"
      ]
    },
    {
      "cell_type": "code",
      "execution_count": null,
      "metadata": {
        "collapsed": true,
        "id": "zjNhUliibjID"
      },
      "outputs": [],
      "source": [
        "w2v_words = list(w2v_model.wv.vocab)"
      ]
    },
    {
      "cell_type": "code",
      "execution_count": null,
      "metadata": {
        "collapsed": true,
        "id": "9-yN6LFrbutL"
      },
      "outputs": [],
      "source": [
        "model = TfidfVectorizer()\n",
        "tf_idf_matrix = model.fit_transform(X_tr)\n",
        "# we are converting a dictionary with word as a key, and the idf as a value\n",
        "dictionary = dict(zip(model.get_feature_names(), list(model.idf_)))\n"
      ]
    },
    {
      "cell_type": "code",
      "execution_count": null,
      "metadata": {
        "collapsed": true,
        "id": "lwS67WgZcVqI"
      },
      "outputs": [],
      "source": [
        "tfidf_feat = model.get_feature_names() # tfidf words/col-names\n"
      ]
    },
    {
      "cell_type": "code",
      "execution_count": null,
      "metadata": {
        "colab": {
          "base_uri": "https://localhost:8080/",
          "height": 34
        },
        "id": "uIb0CO5gcb9D",
        "outputId": "f92457a1-3bcf-42bb-c8b2-b7e355f55a9c"
      },
      "outputs": [
        {
          "name": "stderr",
          "output_type": "stream",
          "text": [
            "100%|██████████| 61441/61441 [32:40<00:00, 31.34it/s]\n"
          ]
        }
      ],
      "source": [
        "list_of_sentance_tr=[]\n",
        "for sentance in X_tr:\n",
        "    list_of_sentance_tr.append(sentance.split())\n",
        "\n",
        "tfidf_sent_vectors_tr = []; # the tfidf-w2v for each sentence/review is stored in this list\n",
        "row=0;\n",
        "for sent in tqdm(list_of_sentance_tr): # for each review/sentence \n",
        "    sent_vec = np.zeros(50) # as word vectors are of zero length\n",
        "    weight_sum =0; # num of words with a valid vector in the sentence/review\n",
        "    for word in sent: # for each word in a review/sentence\n",
        "        if word in w2v_words and word in tfidf_feat:\n",
        "            vec = w2v_model.wv[word]\n",
        "            tf_idf = dictionary[word]*(sent.count(word)/len(sent))\n",
        "            sent_vec += (vec * tf_idf)\n",
        "            weight_sum += tf_idf\n",
        "    if weight_sum != 0:\n",
        "        sent_vec /= weight_sum\n",
        "    tfidf_sent_vectors_tr.append(sent_vec)\n",
        "    row += 1"
      ]
    },
    {
      "cell_type": "code",
      "execution_count": null,
      "metadata": {
        "colab": {
          "base_uri": "https://localhost:8080/",
          "height": 34
        },
        "id": "WFsKJ5NZdXqo",
        "outputId": "7e7932cd-1552-4a2b-82fc-378fbcc44cde"
      },
      "outputs": [
        {
          "name": "stderr",
          "output_type": "stream",
          "text": [
            "100%|██████████| 26332/26332 [14:24<00:00, 30.46it/s]\n"
          ]
        }
      ],
      "source": [
        "list_of_sentance_test=[]\n",
        "for sentance in X_test:\n",
        "    list_of_sentance_test.append(sentance.split())\n",
        "\n",
        "tfidf_sent_vectors_test = []; # the tfidf-w2v for each sentence/review is stored in this list\n",
        "row=0;\n",
        "for sent in tqdm(list_of_sentance_test): # for each review/sentence \n",
        "    sent_vec = np.zeros(50) # as word vectors are of zero length\n",
        "    weight_sum =0; # num of words with a valid vector in the sentence/review\n",
        "    for word in sent: # for each word in a review/sentence\n",
        "        if word in w2v_words and word in tfidf_feat:\n",
        "            vec = w2v_model.wv[word]\n",
        "#             tf_idf = tf_idf_matrix[row, tfidf_feat.index(word)]\n",
        "            # to reduce the computation we are \n",
        "            # dictionary[word] = idf value of word in whole courpus\n",
        "            # sent.count(word) = tf valeus of word in this review\n",
        "            tf_idf = dictionary[word]*(sent.count(word)/len(sent))\n",
        "            sent_vec += (vec * tf_idf)\n",
        "            weight_sum += tf_idf\n",
        "    if weight_sum != 0:\n",
        "        sent_vec /= weight_sum\n",
        "    tfidf_sent_vectors_test.append(sent_vec)\n",
        "    row += 1"
      ]
    },
    {
      "cell_type": "code",
      "execution_count": null,
      "metadata": {
        "colab": {
          "base_uri": "https://localhost:8080/",
          "height": 86
        },
        "id": "rRjnl8fG5lO_",
        "outputId": "cf042394-da7c-4985-94a8-d34b1631415e"
      },
      "outputs": [
        {
          "name": "stdout",
          "output_type": "stream",
          "text": [
            "Parameter ranges are \n",
            " {'alpha': [0.0001, 0.001, 0.01, 0.1, 1.0, 100.0, 1000.0, 10000.0], 'penalty': ['l1', 'l2']}\n",
            "Best Penalty: l2\n",
            "Best Alpha: 0.01\n"
          ]
        }
      ],
      "source": [
        "from sklearn import linear_model\n",
        "from sklearn.model_selection import GridSearchCV\n",
        "svc = linear_model.SGDClassifier(loss = 'hinge')\n",
        "val = [10**-4, 10**-3, 10**-2, 10**-1, 1, 10**2, 10**3, 10**4]\n",
        "param_grid =  { 'alpha' : [float(i) for i in val],\n",
        "               'penalty': ['l1', 'l2']}\n",
        "\n",
        "print(\"Parameter ranges are \\n\",param_grid)\n",
        "clf = GridSearchCV(estimator=svc, param_grid=param_grid, scoring='roc_auc', cv=3, return_train_score=True)\n",
        "clf.fit(tfidf_sent_vectors_tr, y_tr)\n",
        "print('Best Penalty:', clf.best_estimator_.get_params()['penalty'])\n",
        "print('Best Alpha:', clf.best_estimator_.get_params()['alpha'])\n",
        "\n"
      ]
    },
    {
      "cell_type": "code",
      "execution_count": null,
      "metadata": {
        "colab": {
          "base_uri": "https://localhost:8080/",
          "height": 386
        },
        "id": "sym2U8eI5lPd",
        "outputId": "10728ddf-db54-4de5-8890-e6303208efde"
      },
      "outputs": [
        {
          "data": {
            "image/png": "[encoded data removed]",
            "text/plain": [
              "<Figure size 576x432 with 2 Axes>"
            ]
          },
          "metadata": {
            "tags": []
          },
          "output_type": "display_data"
        }
      ],
      "source": [
        "scores = clf.cv_results_['mean_test_score'].reshape(\n",
        "                                                     len(param_grid['penalty']), len(param_grid['alpha']))\n",
        "\n",
        "plt.figure(figsize=(8, 6))\n",
        "plt.subplots_adjust(left=.2, right=0.95, bottom=0.15, top=0.95)\n",
        "plt.imshow(scores, interpolation='nearest', cmap=plt.cm.hot,\n",
        "           norm=MidpointNormalize(vmin=0.2, midpoint=0.92))\n",
        "plt.xlabel('alpha')\n",
        "plt.ylabel('penalty')\n",
        "plt.colorbar()\n",
        "plt.xticks(np.arange(len(param_grid['alpha'])), param_grid['alpha'], rotation=45)\n",
        "plt.yticks(np.arange(len((param_grid['penalty']))), param_grid['penalty'])\n",
        "plt.title('Validation accuracy on CV data')\n",
        "plt.show()"
      ]
    },
    {
      "cell_type": "code",
      "execution_count": null,
      "metadata": {
        "colab": {
          "base_uri": "https://localhost:8080/",
          "height": 386
        },
        "id": "L4ZS_96E5lP2",
        "outputId": "d52c3bb5-f83a-48be-dfa7-3798063bd463"
      },
      "outputs": [
        {
          "data": {
            "image/png": "[encoded data removed]",
            "text/plain": [
              "<Figure size 576x432 with 2 Axes>"
            ]
          },
          "metadata": {
            "tags": []
          },
          "output_type": "display_data"
        }
      ],
      "source": [
        "scores = clf.cv_results_['mean_train_score'].reshape(\n",
        "                                                     len(param_grid['penalty']), len(param_grid['alpha']))\n",
        "\n",
        "plt.figure(figsize=(8, 6))\n",
        "plt.subplots_adjust(left=.2, right=0.95, bottom=0.15, top=0.95)\n",
        "plt.imshow(scores, interpolation='nearest', cmap=plt.cm.hot,\n",
        "           norm=MidpointNormalize(vmin=0.2, midpoint=0.92))\n",
        "plt.xlabel('alpha')\n",
        "plt.ylabel('penalty')\n",
        "plt.colorbar()\n",
        "plt.xticks(np.arange(len(param_grid['alpha'])), param_grid['alpha'], rotation=45)\n",
        "plt.yticks(np.arange(len((param_grid['penalty']))), param_grid['penalty'])\n",
        "plt.title('Validation accuracy on train data')\n",
        "plt.show()"
      ]
    },
    {
      "cell_type": "code",
      "execution_count": null,
      "metadata": {
        "colab": {
          "base_uri": "https://localhost:8080/",
          "height": 260
        },
        "id": "I84KUhf55lQm",
        "outputId": "41bf1ffd-b697-4e43-b2d7-f085b919fb24"
      },
      "outputs": [
        {
          "name": "stdout",
          "output_type": "stream",
          "text": [
            "\n",
            " Train Score **\n",
            "\n",
            "[[0.8781873  0.87741714 0.87999643 0.88049638 0.78435165 0.88001517\n",
            "  0.5        0.87831296]\n",
            " [0.5        0.87889286 0.5        0.62558908 0.5        0.62558884\n",
            "  0.5        0.62558884]]\n",
            "\n",
            " CV Score **\n",
            "\n",
            "[[0.87576506 0.8763411  0.87827906 0.87769807 0.78240442 0.87885815\n",
            "  0.5        0.87702099]\n",
            " [0.5        0.87749095 0.5        0.62540099 0.5        0.62540076\n",
            "  0.5        0.62540076]]\n"
          ]
        }
      ],
      "source": [
        "print(\"\\n Train Score **\\n\")\n",
        "print(clf.cv_results_['mean_train_score'].reshape(len(param_grid['penalty']), len(param_grid['alpha'])))\n",
        "print(\"\\n CV Score **\\n\")\n",
        "print(clf.cv_results_['mean_test_score'].reshape(len(param_grid['penalty']), len(param_grid['alpha'])))\n"
      ]
    },
    {
      "cell_type": "markdown",
      "metadata": {
        "id": "yvMXjwD_5lRE"
      },
      "source": [
        "#### Optimal Hyperparameter  is L2 penalty with value 0.01 "
      ]
    },
    {
      "cell_type": "code",
      "execution_count": null,
      "metadata": {
        "colab": {
          "base_uri": "https://localhost:8080/",
          "height": 312
        },
        "id": "VG_HZytl5lRK",
        "outputId": "567dfb69-bf03-4ca7-ecf3-11ebd51f24ee"
      },
      "outputs": [
        {
          "data": {
            "text/plain": [
              "CalibratedClassifierCV(base_estimator=SGDClassifier(alpha=0.01, average=False,\n",
              "                                                    class_weight=None,\n",
              "                                                    early_stopping=False,\n",
              "                                                    epsilon=0.1, eta0=0.0,\n",
              "                                                    fit_intercept=True,\n",
              "                                                    l1_ratio=0.15,\n",
              "                                                    learning_rate='optimal',\n",
              "                                                    loss='hinge', max_iter=1000,\n",
              "                                                    n_iter_no_change=5,\n",
              "                                                    n_jobs=None, penalty='l2',\n",
              "                                                    power_t=0.5,\n",
              "                                                    random_state=None,\n",
              "                                                    shuffle=True, tol=0.001,\n",
              "                                                    validation_fraction=0.1,\n",
              "                                                    verbose=0,\n",
              "                                                    warm_start=False),\n",
              "                       cv=3, method='sigmoid')"
            ]
          },
          "execution_count": 75,
          "metadata": {
            "tags": []
          },
          "output_type": "execute_result"
        }
      ],
      "source": [
        "svc_base = linear_model.SGDClassifier(loss = 'hinge', penalty = 'l2', alpha = 0.01)\n",
        "svc = CalibratedClassifierCV(svc_base, cv=3)\n",
        "svc.fit(tfidf_sent_vectors_tr,y_tr)\n"
      ]
    },
    {
      "cell_type": "code",
      "execution_count": null,
      "metadata": {
        "colab": {
          "base_uri": "https://localhost:8080/",
          "height": 955
        },
        "id": "ssV4gxsZ5lRi",
        "outputId": "f49a96be-2011-4967-dfbf-92c1d176ed96"
      },
      "outputs": [
        {
          "name": "stdout",
          "output_type": "stream",
          "text": [
            "Confusion Matrix of train data \n",
            "\n"
          ]
        },
        {
          "data": {
            "image/png": "[encoded data removed]",
            "text/plain": [
              "<Figure size 432x288 with 2 Axes>"
            ]
          },
          "metadata": {
            "tags": []
          },
          "output_type": "display_data"
        },
        {
          "name": "stdout",
          "output_type": "stream",
          "text": [
            "Confusion Matrix of test data \n",
            "\n"
          ]
        },
        {
          "data": {
            "image/png": "[encoded data removed]",
            "text/plain": [
              "<Figure size 432x288 with 2 Axes>"
            ]
          },
          "metadata": {
            "tags": []
          },
          "output_type": "display_data"
        },
        {
          "name": "stdout",
          "output_type": "stream",
          "text": [
            "**** TEST AUC ***  0.8214660330232142\n",
            "**** TRAIN AUC *****  0.8238972032365043\n"
          ]
        },
        {
          "data": {
            "image/png": "[encoded data removed]",
            "text/plain": [
              "<Figure size 432x288 with 1 Axes>"
            ]
          },
          "metadata": {
            "tags": []
          },
          "output_type": "display_data"
        }
      ],
      "source": [
        "print(\"Confusion Matrix of train data \\n\")\n",
        "predict = svc.predict(tfidf_sent_vectors_tr)\n",
        "cm = metrics.confusion_matrix(y_tr, predict)\n",
        "ConfusionMatrixPrint(cm)\n",
        "print(\"Confusion Matrix of test data \\n\")\n",
        "predict = svc.predict(tfidf_sent_vectors_test)\n",
        "cm = metrics.confusion_matrix(y_test, predict)\n",
        "ConfusionMatrixPrint(cm)\n",
        "y_cv_predict = np.array(svc.predict_proba(tfidf_sent_vectors_test))\n",
        "preds = np.max(y_cv_predict,axis=1)\n",
        "fpr, tpr, threshold = metrics.roc_curve(y_test, preds)\n",
        "roc_auc = metrics.auc(fpr, tpr)\n",
        "print(\"**** TEST AUC *** \", roc_auc)\n",
        "y_tr_predict = np.array(svc.predict_proba(tfidf_sent_vectors_tr))\n",
        "y_tr_predict = np.max(y_tr_predict,axis=1)\n",
        "fpr_tr, tpr_tr, threshold_tr = metrics.roc_curve(y_tr, y_tr_predict)\n",
        "#calculating AUC\n",
        "auc = metrics.auc(fpr_tr, tpr_tr)\n",
        "print(\"**** TRAIN AUC ***** \", auc)\n",
        "ROCCurvePrint(fpr,tpr, fpr_tr, tpr_tr)"
      ]
    },
    {
      "cell_type": "markdown",
      "metadata": {
        "id": "_P-Lpg0J6t7T"
      },
      "source": [
        "##<font color='green'><b>RBF SVM"
      ]
    },
    {
      "cell_type": "code",
      "execution_count": null,
      "metadata": {
        "colab": {
          "base_uri": "https://localhost:8080/",
          "height": 104
        },
        "id": "y_JN48gU6xu1",
        "outputId": "53d96453-679a-4e8a-9579-b79455b75884"
      },
      "outputs": [
        {
          "name": "stdout",
          "output_type": "stream",
          "text": [
            "20000\n",
            "20000\n",
            "1    16962\n",
            "0     3038\n",
            "Name: Score, dtype: int64\n"
          ]
        }
      ],
      "source": [
        "X = preprocessed_reviews[:20000]\n",
        "y = final['Score']\n",
        "y = y[:20000]\n",
        "print(len(X))\n",
        "print(len(y))\n",
        "print(y.value_counts())\n",
        "# Random Splitting of data using train_test_split\n",
        "X_tr, X_test, y_tr, y_test = train_test_split(X, y, test_size=0.3, random_state=0)"
      ]
    },
    {
      "cell_type": "markdown",
      "metadata": {
        "id": "u5dsCB7s-1o6"
      },
      "source": [
        "###<font color='green'><b>BoW"
      ]
    },
    {
      "cell_type": "code",
      "execution_count": null,
      "metadata": {
        "collapsed": true,
        "id": "-NMjimsg_Jtj"
      },
      "outputs": [],
      "source": [
        "vectorizer = CountVectorizer(min_df = 10, max_features = 500)\n",
        "vectorizer.fit(X_tr)\n",
        "X_tr_bow = vectorizer.transform(X_tr)\n",
        "X_test_bow = vectorizer.transform(X_test)"
      ]
    },
    {
      "cell_type": "code",
      "execution_count": null,
      "metadata": {
        "colab": {
          "base_uri": "https://localhost:8080/",
          "height": 52
        },
        "id": "ajR6h8-e_Kp-",
        "outputId": "21b9674e-3310-4c89-d232-dd0900899fe6"
      },
      "outputs": [
        {
          "name": "stdout",
          "output_type": "stream",
          "text": [
            "parameters are  {'C': [0.5, 2, 8, 32, 128], 'gamma': [0.125, 0.5, 2, 8]}\n",
            "{'C': 2, 'gamma': 0.125}\n"
          ]
        }
      ],
      "source": [
        "from sklearn import svm\n",
        "from sklearn.svm import SVC\n",
        "Cs = [2**-1, 2**1, 2**3, 2**5, 2**7]\n",
        "gammas = [ 2**-3,  2**-1,2**1, 2**3]\n",
        "\n",
        "param_grid = {'C': Cs, 'gamma' : gammas}\n",
        "print(\"parameters are \",param_grid)\n",
        "clf = GridSearchCV(svm.SVC(kernel='rbf'), param_grid, scoring='roc_auc', cv=3, return_train_score=True)\n",
        "clf.fit(X_tr_bow, y_tr)\n",
        "clf.best_params_\n",
        "print(clf.best_params_)\n"
      ]
    },
    {
      "cell_type": "code",
      "execution_count": null,
      "metadata": {
        "colab": {
          "base_uri": "https://localhost:8080/",
          "height": 435
        },
        "id": "EA4h3gi9AdZq",
        "outputId": "8dd72071-6755-411c-e99c-4253f4c6fbf0"
      },
      "outputs": [
        {
          "data": {
            "image/png": "[encoded data removed]",
            "text/plain": [
              "<Figure size 576x432 with 2 Axes>"
            ]
          },
          "metadata": {
            "tags": []
          },
          "output_type": "display_data"
        }
      ],
      "source": [
        "scores = clf.cv_results_['mean_test_score'].reshape(\n",
        "                                                     len(param_grid['C']), len(param_grid['gamma']))\n",
        "\n",
        "plt.figure(figsize=(8, 6))\n",
        "plt.subplots_adjust(left=.2, right=0.95, bottom=0.15, top=0.95)\n",
        "plt.imshow(scores, interpolation='nearest', cmap=plt.cm.hot,\n",
        "           norm=MidpointNormalize(vmin=0.2, midpoint=0.92))\n",
        "plt.xlabel('C')\n",
        "plt.ylabel('gamma')\n",
        "plt.colorbar()\n",
        "plt.xticks(np.arange(len(param_grid['C'])), param_grid['C'], rotation=45)\n",
        "plt.yticks(np.arange(len((param_grid['gamma']))), param_grid['gamma'])\n",
        "plt.title('Validation accuracy on CV data')\n",
        "plt.show()"
      ]
    },
    {
      "cell_type": "code",
      "execution_count": null,
      "metadata": {
        "colab": {
          "base_uri": "https://localhost:8080/",
          "height": 435
        },
        "id": "BaTOvMGpAdZ5",
        "outputId": "454e34ba-7895-42d8-ca39-ee03492bd37a"
      },
      "outputs": [
        {
          "data": {
            "image/png": "[encoded data removed]",
            "text/plain": [
              "<Figure size 576x432 with 2 Axes>"
            ]
          },
          "metadata": {
            "tags": []
          },
          "output_type": "display_data"
        }
      ],
      "source": [
        "scores = clf.cv_results_['mean_train_score'].reshape(\n",
        "                                                     len(param_grid['C']), len(param_grid['gamma']))\n",
        "plt.figure(figsize=(8, 6))\n",
        "plt.subplots_adjust(left=.2, right=0.95, bottom=0.15, top=0.95)\n",
        "plt.imshow(scores, interpolation='nearest', cmap=plt.cm.hot,\n",
        "           norm=MidpointNormalize(vmin=0.2, midpoint=0.92))\n",
        "plt.xlabel('C')\n",
        "plt.ylabel('gamma')\n",
        "plt.colorbar()\n",
        "plt.xticks(np.arange(len(param_grid['C'])), param_grid['C'], rotation=45)\n",
        "plt.yticks(np.arange(len((param_grid['gamma']))), param_grid['gamma'])\n",
        "plt.title('Validation accuracy on train data')\n",
        "plt.show()"
      ]
    },
    {
      "cell_type": "code",
      "execution_count": null,
      "metadata": {
        "colab": {
          "base_uri": "https://localhost:8080/",
          "height": 295
        },
        "id": "aHrvuCOzBHsz",
        "outputId": "d1fb330c-894c-4f91-b5b9-b9b4e0943df1"
      },
      "outputs": [
        {
          "name": "stdout",
          "output_type": "stream",
          "text": [
            "\n",
            " Train Score **\n",
            "\n",
            "[[0.99528703 0.99930275 0.99759604 0.99769333]\n",
            " [0.99834899 0.99931918 0.99855262 0.99867828]\n",
            " [0.99975043 0.99935138 0.99855262 0.99867828]\n",
            " [0.9997673  0.99931588 0.99855262 0.99867828]\n",
            " [0.99930375 0.99931588 0.99855262 0.99867828]]\n",
            "\n",
            " CV Score **\n",
            "\n",
            "[[0.83405275 0.74881369 0.6267661  0.50895209]\n",
            " [0.83849138 0.75145496 0.62998911 0.50895829]\n",
            " [0.83149034 0.74856002 0.62998911 0.50895829]\n",
            " [0.82956378 0.74857287 0.62998911 0.50895829]\n",
            " [0.82600141 0.74857287 0.62998911 0.50895829]]\n"
          ]
        }
      ],
      "source": [
        "print(\"\\n Train Score **\\n\")\n",
        "print(clf.cv_results_['mean_train_score'].reshape(len(param_grid['C']), len(param_grid['gamma'])))\n",
        "print(\"\\n CV Score **\\n\")\n",
        "print(clf.cv_results_['mean_test_score'].reshape(len(param_grid['C']), len(param_grid['gamma'])))\n"
      ]
    },
    {
      "cell_type": "markdown",
      "metadata": {
        "id": "F87So110BHtP"
      },
      "source": [
        "#### Optimal Hyperparameter  is 'C': 2, 'gamma': 0.125"
      ]
    },
    {
      "cell_type": "code",
      "execution_count": null,
      "metadata": {
        "colab": {
          "base_uri": "https://localhost:8080/",
          "height": 87
        },
        "id": "TS5QUYUGBPGv",
        "outputId": "a14844f8-f1d8-4a75-f7f0-1fb23b3d2634"
      },
      "outputs": [
        {
          "data": {
            "text/plain": [
              "SVC(C=2, cache_size=200, class_weight=None, coef0=0.0,\n",
              "    decision_function_shape='ovr', degree=3, gamma=0.125, kernel='rbf',\n",
              "    max_iter=-1, probability=True, random_state=None, shrinking=True, tol=0.001,\n",
              "    verbose=False)"
            ]
          },
          "execution_count": 43,
          "metadata": {
            "tags": []
          },
          "output_type": "execute_result"
        }
      ],
      "source": [
        "svc = svm.SVC(kernel='rbf', C =2 , gamma =0.125, probability=True )\n",
        "svc.fit(X_tr_bow,y_tr)"
      ]
    },
    {
      "cell_type": "code",
      "execution_count": null,
      "metadata": {
        "colab": {
          "base_uri": "https://localhost:8080/",
          "height": 955
        },
        "id": "Osc98iMNBHtY",
        "outputId": "413a669a-7985-4901-fba7-155471355792"
      },
      "outputs": [
        {
          "name": "stdout",
          "output_type": "stream",
          "text": [
            "Confusion Matrix of train data \n",
            "\n"
          ]
        },
        {
          "data": {
            "image/png": "[encoded data removed]",
            "text/plain": [
              "<Figure size 432x288 with 2 Axes>"
            ]
          },
          "metadata": {
            "tags": []
          },
          "output_type": "display_data"
        },
        {
          "name": "stdout",
          "output_type": "stream",
          "text": [
            "Confusion Matrix of test data \n",
            "\n"
          ]
        },
        {
          "data": {
            "image/png": "[encoded data removed]",
            "text/plain": [
              "<Figure size 432x288 with 2 Axes>"
            ]
          },
          "metadata": {
            "tags": []
          },
          "output_type": "display_data"
        },
        {
          "name": "stdout",
          "output_type": "stream",
          "text": [
            "**** TEST AUC ***  0.7869228633856293\n",
            "**** TRAIN AUC *****  0.19083429126687768\n"
          ]
        },
        {
          "data": {
            "image/png": "[encoded data removed]",
            "text/plain": [
              "<Figure size 432x288 with 1 Axes>"
            ]
          },
          "metadata": {
            "tags": []
          },
          "output_type": "display_data"
        }
      ],
      "source": [
        "print(\"Confusion Matrix of train data \\n\")\n",
        "predict = svc.predict(X_tr_bow)\n",
        "cm = metrics.confusion_matrix(y_tr, predict)\n",
        "ConfusionMatrixPrint(cm)\n",
        "print(\"Confusion Matrix of test data \\n\")\n",
        "predict = svc.predict(X_test_bow)\n",
        "cm = metrics.confusion_matrix(y_test, predict)\n",
        "ConfusionMatrixPrint(cm)\n",
        "y_cv_predict = np.array(svc.predict_proba(X_test_bow))\n",
        "preds = np.max(y_cv_predict,axis=1)\n",
        "fpr, tpr, threshold = metrics.roc_curve(y_test, preds)\n",
        "roc_auc = metrics.auc(fpr, tpr)\n",
        "print(\"**** TEST AUC *** \", roc_auc)\n",
        "y_tr_predict = np.array(svc.predict_proba(X_tr_bow))\n",
        "y_tr_predict = np.max(y_tr_predict,axis=1)\n",
        "fpr_tr, tpr_tr, threshold_tr = metrics.roc_curve(y_tr, y_tr_predict)\n",
        "#calculating AUC\n",
        "auc = metrics.auc(fpr_tr, tpr_tr)\n",
        "print(\"**** TRAIN AUC ***** \", auc)\n",
        "ROCCurvePrint(fpr,tpr, fpr_tr, tpr_tr)"
      ]
    },
    {
      "cell_type": "markdown",
      "metadata": {
        "id": "YJwYqvOR-5iO"
      },
      "source": [
        "###<font color='green'><b>Tf-Idf\n"
      ]
    },
    {
      "cell_type": "code",
      "execution_count": null,
      "metadata": {
        "collapsed": true,
        "id": "8G612bRQ8pNZ"
      },
      "outputs": [],
      "source": [
        "vectorizer = TfidfVectorizer(min_df = 10, max_features = 500)\n",
        "vectorizer.fit(X_tr)\n",
        "X_tr_bow = vectorizer.transform(X_tr)\n",
        "X_test_bow = vectorizer.transform(X_test)"
      ]
    },
    {
      "cell_type": "code",
      "execution_count": null,
      "metadata": {
        "colab": {
          "base_uri": "https://localhost:8080/",
          "height": 52
        },
        "id": "Hw01p9bO8pNi",
        "outputId": "0a945915-20a9-4075-af93-c97bf22e8561"
      },
      "outputs": [
        {
          "name": "stdout",
          "output_type": "stream",
          "text": [
            "parameters are  {'C': [0.5, 2, 8, 32, 128], 'gamma': [0.125, 0.5, 2, 8]}\n",
            "{'C': 8, 'gamma': 2}\n"
          ]
        }
      ],
      "source": [
        "from sklearn import svm\n",
        "from sklearn.svm import SVC\n",
        "Cs = [2**-1, 2**1, 2**3, 2**5, 2**7]\n",
        "gammas = [ 2**-3,  2**-1,2**1, 2**3]\n",
        "\n",
        "param_grid = {'C': Cs, 'gamma' : gammas}\n",
        "print(\"parameters are \",param_grid)\n",
        "clf = GridSearchCV(svm.SVC(kernel='rbf'), param_grid, scoring='roc_auc', cv=3, return_train_score=True)\n",
        "clf.fit(X_tr_bow, y_tr)\n",
        "clf.best_params_\n",
        "print(clf.best_params_)\n"
      ]
    },
    {
      "cell_type": "code",
      "execution_count": null,
      "metadata": {
        "colab": {
          "base_uri": "https://localhost:8080/",
          "height": 435
        },
        "id": "nb5Ys3rX8pNq",
        "outputId": "9fb30c89-0623-44cd-a876-95a986de2981"
      },
      "outputs": [
        {
          "data": {
            "image/png": "[encoded data removed]",
            "text/plain": [
              "<Figure size 576x432 with 2 Axes>"
            ]
          },
          "metadata": {
            "tags": []
          },
          "output_type": "display_data"
        }
      ],
      "source": [
        "scores = clf.cv_results_['mean_test_score'].reshape(\n",
        "                                                     len(param_grid['C']), len(param_grid['gamma']))\n",
        "\n",
        "plt.figure(figsize=(8, 6))\n",
        "plt.subplots_adjust(left=.2, right=0.95, bottom=0.15, top=0.95)\n",
        "plt.imshow(scores, interpolation='nearest', cmap=plt.cm.hot,\n",
        "           norm=MidpointNormalize(vmin=0.2, midpoint=0.92))\n",
        "plt.xlabel('C')\n",
        "plt.ylabel('gamma')\n",
        "plt.colorbar()\n",
        "plt.xticks(np.arange(len(param_grid['C'])), param_grid['C'], rotation=45)\n",
        "plt.yticks(np.arange(len((param_grid['gamma']))), param_grid['gamma'])\n",
        "plt.title('Validation accuracy on CV data')\n",
        "plt.show()"
      ]
    },
    {
      "cell_type": "code",
      "execution_count": null,
      "metadata": {
        "colab": {
          "base_uri": "https://localhost:8080/",
          "height": 435
        },
        "id": "99ILWUc68pNx",
        "outputId": "aea2fcc6-2d94-4302-8dc5-87c2cc894079"
      },
      "outputs": [
        {
          "data": {
            "image/png": "[encoded data removed]",
            "text/plain": [
              "<Figure size 576x432 with 2 Axes>"
            ]
          },
          "metadata": {
            "tags": []
          },
          "output_type": "display_data"
        }
      ],
      "source": [
        "scores = clf.cv_results_['mean_train_score'].reshape(\n",
        "                                                     len(param_grid['C']), len(param_grid['gamma']))\n",
        "plt.figure(figsize=(8, 6))\n",
        "plt.subplots_adjust(left=.2, right=0.95, bottom=0.15, top=0.95)\n",
        "plt.imshow(scores, interpolation='nearest', cmap=plt.cm.hot,\n",
        "           norm=MidpointNormalize(vmin=0.2, midpoint=0.92))\n",
        "plt.xlabel('C')\n",
        "plt.ylabel('gamma')\n",
        "plt.colorbar()\n",
        "plt.xticks(np.arange(len(param_grid['C'])), param_grid['C'], rotation=45)\n",
        "plt.yticks(np.arange(len((param_grid['gamma']))), param_grid['gamma'])\n",
        "plt.title('Validation accuracy on train data')\n",
        "plt.show()"
      ]
    },
    {
      "cell_type": "code",
      "execution_count": null,
      "metadata": {
        "colab": {
          "base_uri": "https://localhost:8080/",
          "height": 295
        },
        "id": "Se9jjmTb8pN1",
        "outputId": "3b06f20e-5151-42bb-f3c3-955628a36391"
      },
      "outputs": [
        {
          "name": "stdout",
          "output_type": "stream",
          "text": [
            "\n",
            " Train Score **\n",
            "\n",
            "[[0.92367459 0.95394484 0.99895841 0.99909638]\n",
            " [0.9289259  0.98352877 0.99878005 0.99886109]\n",
            " [0.94909827 0.99937233 0.99873238 0.99886109]\n",
            " [0.98685237 0.99933393 0.99873238 0.99886109]\n",
            " [0.99918659 0.99933393 0.99873238 0.99886109]]\n",
            "\n",
            " CV Score **\n",
            "\n",
            "[[0.88796212 0.89059972 0.89414884 0.78866332]\n",
            " [0.88931354 0.89450538 0.89981997 0.78885802]\n",
            " [0.89023603 0.89791682 0.899996   0.78885802]\n",
            " [0.8928302  0.89743066 0.899996   0.78885802]\n",
            " [0.89477531 0.89743066 0.899996   0.78885802]]\n"
          ]
        }
      ],
      "source": [
        "print(\"\\n Train Score **\\n\")\n",
        "print(clf.cv_results_['mean_train_score'].reshape(len(param_grid['C']), len(param_grid['gamma'])))\n",
        "print(\"\\n CV Score **\\n\")\n",
        "print(clf.cv_results_['mean_test_score'].reshape(len(param_grid['C']), len(param_grid['gamma'])))\n"
      ]
    },
    {
      "cell_type": "markdown",
      "metadata": {
        "id": "fwqS_FvP8pN5"
      },
      "source": [
        "#### Optimal Hyperparameter  is 'C': 8, 'gamma': 2"
      ]
    },
    {
      "cell_type": "code",
      "execution_count": null,
      "metadata": {
        "colab": {
          "base_uri": "https://localhost:8080/",
          "height": 87
        },
        "id": "f3yxizZt8pN6",
        "outputId": "0d537bcb-ee41-4023-df1d-3b66434d0afd"
      },
      "outputs": [
        {
          "data": {
            "text/plain": [
              "SVC(C=8, cache_size=200, class_weight=None, coef0=0.0,\n",
              "    decision_function_shape='ovr', degree=3, gamma=2, kernel='rbf', max_iter=-1,\n",
              "    probability=True, random_state=None, shrinking=True, tol=0.001,\n",
              "    verbose=False)"
            ]
          },
          "execution_count": 50,
          "metadata": {
            "tags": []
          },
          "output_type": "execute_result"
        }
      ],
      "source": [
        "svc = svm.SVC(kernel='rbf', C =8 , gamma =2, probability=True )\n",
        "svc.fit(X_tr_bow,y_tr)"
      ]
    },
    {
      "cell_type": "code",
      "execution_count": null,
      "metadata": {
        "colab": {
          "base_uri": "https://localhost:8080/",
          "height": 955
        },
        "id": "P3ZiWAmU8pN9",
        "outputId": "c62d3b53-cc1f-4104-d8d0-78c575f8b703"
      },
      "outputs": [
        {
          "name": "stdout",
          "output_type": "stream",
          "text": [
            "Confusion Matrix of train data \n",
            "\n"
          ]
        },
        {
          "data": {
            "image/png": "[encoded data removed]",
            "text/plain": [
              "<Figure size 432x288 with 2 Axes>"
            ]
          },
          "metadata": {
            "tags": []
          },
          "output_type": "display_data"
        },
        {
          "name": "stdout",
          "output_type": "stream",
          "text": [
            "Confusion Matrix of test data \n",
            "\n"
          ]
        },
        {
          "data": {
            "image/png": "[encoded data removed]",
            "text/plain": [
              "<Figure size 432x288 with 2 Axes>"
            ]
          },
          "metadata": {
            "tags": []
          },
          "output_type": "display_data"
        },
        {
          "name": "stdout",
          "output_type": "stream",
          "text": [
            "**** TEST AUC ***  0.8162336169871631\n",
            "**** TRAIN AUC *****  0.13507364427529842\n"
          ]
        },
        {
          "data": {
            "image/png": "[encoded data removed]",
            "text/plain": [
              "<Figure size 432x288 with 1 Axes>"
            ]
          },
          "metadata": {
            "tags": []
          },
          "output_type": "display_data"
        }
      ],
      "source": [
        "print(\"Confusion Matrix of train data \\n\")\n",
        "predict = svc.predict(X_tr_bow)\n",
        "cm = metrics.confusion_matrix(y_tr, predict)\n",
        "ConfusionMatrixPrint(cm)\n",
        "print(\"Confusion Matrix of test data \\n\")\n",
        "predict = svc.predict(X_test_bow)\n",
        "cm = metrics.confusion_matrix(y_test, predict)\n",
        "ConfusionMatrixPrint(cm)\n",
        "y_cv_predict = np.array(svc.predict_proba(X_test_bow))\n",
        "preds = np.max(y_cv_predict,axis=1)\n",
        "fpr, tpr, threshold = metrics.roc_curve(y_test, preds)\n",
        "roc_auc = metrics.auc(fpr, tpr)\n",
        "print(\"**** TEST AUC *** \", roc_auc)\n",
        "y_tr_predict = np.array(svc.predict_proba(X_tr_bow))\n",
        "y_tr_predict = np.max(y_tr_predict,axis=1)\n",
        "fpr_tr, tpr_tr, threshold_tr = metrics.roc_curve(y_tr, y_tr_predict)\n",
        "#calculating AUC\n",
        "auc = metrics.auc(fpr_tr, tpr_tr)\n",
        "print(\"**** TRAIN AUC ***** \", auc)\n",
        "ROCCurvePrint(fpr,tpr, fpr_tr, tpr_tr)"
      ]
    },
    {
      "cell_type": "markdown",
      "metadata": {
        "id": "lSwBsYEsyWcb"
      },
      "source": [
        "###<font color='green'><b>AVG W2V\n",
        "\n"
      ]
    },
    {
      "cell_type": "code",
      "execution_count": null,
      "metadata": {
        "collapsed": true,
        "id": "vopV6-M8PKl4"
      },
      "outputs": [],
      "source": [
        "training_words = []\n",
        "for sentance in X_tr:\n",
        "    training_words.append(sentance.split())\n",
        "w2v_model=Word2Vec(training_words,min_count=5,size=50, workers=4)"
      ]
    },
    {
      "cell_type": "code",
      "execution_count": null,
      "metadata": {
        "collapsed": true,
        "id": "kwjLvV-kPKmH"
      },
      "outputs": [],
      "source": [
        "w2v_words = list(w2v_model.wv.vocab)\n",
        "X_tr_vectors = []; # the avg-w2v for each sentence/review is stored in this list\n",
        "# print(w2v_model.wv.vocab)\n",
        "for sent in (training_words): # for each review/sentence\n",
        "    sent_vec = np.zeros(50) # as word vectors are of zero length 50, you might need to change this to 300 if you use google's w2v\n",
        "    cnt_words =0; # num of words with a valid vector in the sentence/review\n",
        "    for word in sent: # for each word in a review/sentence\n",
        "        if word in w2v_words:\n",
        "            vec = w2v_model.wv[word]\n",
        "            sent_vec += vec\n",
        "            cnt_words += 1\n",
        "    if cnt_words != 0:\n",
        "        sent_vec /= cnt_words\n",
        "    X_tr_vectors.append(sent_vec)\n"
      ]
    },
    {
      "cell_type": "code",
      "execution_count": null,
      "metadata": {
        "collapsed": true,
        "id": "eA3CJ9nuPKmL"
      },
      "outputs": [],
      "source": [
        "test_words = []\n",
        "for sentance in X_test:\n",
        "    test_words.append(sentance.split())\n",
        "X_test_vectors = []; # the avg-w2v for each sentence/review is stored in this list\n",
        "# print(w2v_model.wv.vocab)\n",
        "for sent in test_words: # for each review/sentence\n",
        "    sent_vec = np.zeros(50) # as word vectors are of zero length 50, you might need to change this to 300 if you use google's w2v\n",
        "    cnt_words =0; # num of words with a valid vector in the sentence/review\n",
        "    for word in sent: # for each word in a review/sentence\n",
        "        if word in w2v_words:\n",
        "            vec = w2v_model.wv[word]\n",
        "            sent_vec += vec\n",
        "            cnt_words += 1\n",
        "    if cnt_words != 0:\n",
        "        sent_vec /= cnt_words\n",
        "    X_test_vectors.append(sent_vec)"
      ]
    },
    {
      "cell_type": "code",
      "execution_count": null,
      "metadata": {
        "colab": {
          "base_uri": "https://localhost:8080/",
          "height": 52
        },
        "id": "Bk0fi0djPVT7",
        "outputId": "c2c93c02-8296-4d08-d5f8-139b9c7c7467"
      },
      "outputs": [
        {
          "name": "stdout",
          "output_type": "stream",
          "text": [
            "parameters are  {'C': [0.5, 2, 8, 32, 128], 'gamma': [0.125, 0.5, 2, 8]}\n",
            "{'C': 8, 'gamma': 0.125}\n"
          ]
        }
      ],
      "source": [
        "from sklearn import svm\n",
        "from sklearn.svm import SVC\n",
        "Cs = [2**-1, 2**1, 2**3, 2**5, 2**7]\n",
        "gammas = [ 2**-3,  2**-1,2**1, 2**3]\n",
        "\n",
        "param_grid = {'C': Cs, 'gamma' : gammas}\n",
        "print(\"parameters are \",param_grid)\n",
        "clf = GridSearchCV(svm.SVC(kernel='rbf'), param_grid, scoring='roc_auc', cv=3, return_train_score=True)\n",
        "clf.fit(X_tr_vectors, y_tr)\n",
        "clf.best_params_\n",
        "print(clf.best_params_)\n"
      ]
    },
    {
      "cell_type": "code",
      "execution_count": null,
      "metadata": {
        "colab": {
          "base_uri": "https://localhost:8080/",
          "height": 435
        },
        "id": "43yaezI_PVT_",
        "outputId": "06a450dd-7055-43d2-a0b4-aeaa830f6e60"
      },
      "outputs": [
        {
          "data": {
            "image/png": "[encoded data removed]",
            "text/plain": [
              "<Figure size 576x432 with 2 Axes>"
            ]
          },
          "metadata": {
            "tags": []
          },
          "output_type": "display_data"
        }
      ],
      "source": [
        "scores = clf.cv_results_['mean_test_score'].reshape(\n",
        "                                                     len(param_grid['C']), len(param_grid['gamma']))\n",
        "\n",
        "plt.figure(figsize=(8, 6))\n",
        "plt.subplots_adjust(left=.2, right=0.95, bottom=0.15, top=0.95)\n",
        "plt.imshow(scores, interpolation='nearest', cmap=plt.cm.hot,\n",
        "           norm=MidpointNormalize(vmin=0.2, midpoint=0.92))\n",
        "plt.xlabel('C')\n",
        "plt.ylabel('gamma')\n",
        "plt.colorbar()\n",
        "plt.xticks(np.arange(len(param_grid['C'])), param_grid['C'], rotation=45)\n",
        "plt.yticks(np.arange(len((param_grid['gamma']))), param_grid['gamma'])\n",
        "plt.title('Validation accuracy on CV data')\n",
        "plt.show()"
      ]
    },
    {
      "cell_type": "code",
      "execution_count": null,
      "metadata": {
        "colab": {
          "base_uri": "https://localhost:8080/",
          "height": 435
        },
        "id": "_iCqrVemPVUC",
        "outputId": "6a59eba7-84fd-4574-9bd7-a1c07e8728cd"
      },
      "outputs": [
        {
          "data": {
            "image/png": "[encoded data removed]",
            "text/plain": [
              "<Figure size 576x432 with 2 Axes>"
            ]
          },
          "metadata": {
            "tags": []
          },
          "output_type": "display_data"
        }
      ],
      "source": [
        "scores = clf.cv_results_['mean_train_score'].reshape(\n",
        "                                                     len(param_grid['C']), len(param_grid['gamma']))\n",
        "plt.figure(figsize=(8, 6))\n",
        "plt.subplots_adjust(left=.2, right=0.95, bottom=0.15, top=0.95)\n",
        "plt.imshow(scores, interpolation='nearest', cmap=plt.cm.hot,\n",
        "           norm=MidpointNormalize(vmin=0.2, midpoint=0.92))\n",
        "plt.xlabel('C')\n",
        "plt.ylabel('gamma')\n",
        "plt.colorbar()\n",
        "plt.xticks(np.arange(len(param_grid['C'])), param_grid['C'], rotation=45)\n",
        "plt.yticks(np.arange(len((param_grid['gamma']))), param_grid['gamma'])\n",
        "plt.title('Validation accuracy on train data')\n",
        "plt.show()"
      ]
    },
    {
      "cell_type": "code",
      "execution_count": null,
      "metadata": {
        "colab": {
          "base_uri": "https://localhost:8080/",
          "height": 295
        },
        "id": "LZEBwzXEPVUE",
        "outputId": "545c946c-2c9e-4797-cec7-2c46efeb7b70"
      },
      "outputs": [
        {
          "name": "stdout",
          "output_type": "stream",
          "text": [
            "\n",
            " Train Score **\n",
            "\n",
            "[[0.87862769 0.88926718 0.96035081 0.99873972]\n",
            " [0.88381357 0.91904793 0.98837966 0.99887673]\n",
            " [0.89949719 0.95220444 0.99831956 0.9989751 ]\n",
            " [0.91936918 0.97933974 0.99913152 0.9989751 ]\n",
            " [0.94106845 0.99575511 0.99940092 0.9989751 ]]\n",
            "\n",
            " CV Score **\n",
            "\n",
            "[[0.86136427 0.83797385 0.80286982 0.754081  ]\n",
            " [0.86238105 0.84059903 0.79797832 0.75184814]\n",
            " [0.86377309 0.83701785 0.78389047 0.75176494]\n",
            " [0.86251944 0.8241589  0.77150989 0.75176494]\n",
            " [0.8541068  0.8044757  0.77084394 0.75176494]]\n"
          ]
        }
      ],
      "source": [
        "print(\"\\n Train Score **\\n\")\n",
        "print(clf.cv_results_['mean_train_score'].reshape(len(param_grid['C']), len(param_grid['gamma'])))\n",
        "print(\"\\n CV Score **\\n\")\n",
        "print(clf.cv_results_['mean_test_score'].reshape(len(param_grid['C']), len(param_grid['gamma'])))\n"
      ]
    },
    {
      "cell_type": "code",
      "execution_count": null,
      "metadata": {
        "colab": {
          "base_uri": "https://localhost:8080/",
          "height": 87
        },
        "id": "u1MfpOegPVUG",
        "outputId": "0a5f5fd5-8ebb-498d-9d1e-ee7ca15394a5"
      },
      "outputs": [
        {
          "data": {
            "text/plain": [
              "SVC(C=8, cache_size=200, class_weight=None, coef0=0.0,\n",
              "    decision_function_shape='ovr', degree=3, gamma=0.125, kernel='rbf',\n",
              "    max_iter=-1, probability=True, random_state=None, shrinking=True, tol=0.001,\n",
              "    verbose=False)"
            ]
          },
          "execution_count": 59,
          "metadata": {
            "tags": []
          },
          "output_type": "execute_result"
        }
      ],
      "source": [
        "svc = svm.SVC(kernel='rbf', C =8 , gamma = 0.125, probability=True )\n",
        "svc.fit(X_tr_vectors,y_tr)"
      ]
    },
    {
      "cell_type": "code",
      "execution_count": null,
      "metadata": {
        "colab": {
          "base_uri": "https://localhost:8080/",
          "height": 955
        },
        "id": "ltgqHWWePVUJ",
        "outputId": "93548b81-4d39-4f4b-9c82-f2af963f4677"
      },
      "outputs": [
        {
          "name": "stdout",
          "output_type": "stream",
          "text": [
            "Confusion Matrix of train data \n",
            "\n"
          ]
        },
        {
          "data": {
            "image/png": "[encoded data removed]",
            "text/plain": [
              "<Figure size 432x288 with 2 Axes>"
            ]
          },
          "metadata": {
            "tags": []
          },
          "output_type": "display_data"
        },
        {
          "name": "stdout",
          "output_type": "stream",
          "text": [
            "Confusion Matrix of test data \n",
            "\n"
          ]
        },
        {
          "data": {
            "image/png": "[encoded data removed]",
            "text/plain": [
              "<Figure size 432x288 with 2 Axes>"
            ]
          },
          "metadata": {
            "tags": []
          },
          "output_type": "display_data"
        },
        {
          "name": "stdout",
          "output_type": "stream",
          "text": [
            "**** TEST AUC ***  0.8111437747962571\n",
            "**** TRAIN AUC *****  0.8368201795964215\n"
          ]
        },
        {
          "data": {
            "image/png": "[encoded data removed]",
            "text/plain": [
              "<Figure size 432x288 with 1 Axes>"
            ]
          },
          "metadata": {
            "tags": []
          },
          "output_type": "display_data"
        }
      ],
      "source": [
        "print(\"Confusion Matrix of train data \\n\")\n",
        "predict = svc.predict(X_tr_vectors)\n",
        "cm = metrics.confusion_matrix(y_tr, predict)\n",
        "ConfusionMatrixPrint(cm)\n",
        "print(\"Confusion Matrix of test data \\n\")\n",
        "predict = svc.predict(X_test_vectors)\n",
        "cm = metrics.confusion_matrix(y_test, predict)\n",
        "ConfusionMatrixPrint(cm)\n",
        "y_cv_predict = np.array(svc.predict_proba(X_test_vectors))\n",
        "preds = np.max(y_cv_predict,axis=1)\n",
        "fpr, tpr, threshold = metrics.roc_curve(y_test, preds)\n",
        "roc_auc = metrics.auc(fpr, tpr)\n",
        "print(\"**** TEST AUC *** \", roc_auc)\n",
        "y_tr_predict = np.array(svc.predict_proba(X_tr_vectors))\n",
        "y_tr_predict = np.max(y_tr_predict,axis=1)\n",
        "fpr_tr, tpr_tr, threshold_tr = metrics.roc_curve(y_tr, y_tr_predict)\n",
        "#calculating AUC\n",
        "auc = metrics.auc(fpr_tr, tpr_tr)\n",
        "print(\"**** TRAIN AUC ***** \", auc)\n",
        "ROCCurvePrint(fpr,tpr, fpr_tr, tpr_tr)"
      ]
    },
    {
      "cell_type": "markdown",
      "metadata": {
        "id": "1NkriIGmyWcj"
      },
      "source": [
        "###<font color='green'><b>TFIDF W2V"
      ]
    },
    {
      "cell_type": "code",
      "execution_count": null,
      "metadata": {
        "collapsed": true,
        "id": "UWU5CYSSgdzU"
      },
      "outputs": [],
      "source": [
        "training_words = []\n",
        "for sentance in X_tr:\n",
        "    training_words.append(sentance.split())\n",
        "w2v_model=Word2Vec(training_words,min_count=5,size=50, workers=4)"
      ]
    },
    {
      "cell_type": "code",
      "execution_count": null,
      "metadata": {
        "collapsed": true,
        "id": "sbuNofT4gdzW"
      },
      "outputs": [],
      "source": [
        "w2v_words = list(w2v_model.wv.vocab)"
      ]
    },
    {
      "cell_type": "code",
      "execution_count": null,
      "metadata": {
        "collapsed": true,
        "id": "cOiohkDbgdzY"
      },
      "outputs": [],
      "source": [
        "model = TfidfVectorizer()\n",
        "tf_idf_matrix = model.fit_transform(X_tr)\n",
        "# we are converting a dictionary with word as a key, and the idf as a value\n",
        "dictionary = dict(zip(model.get_feature_names(), list(model.idf_)))"
      ]
    },
    {
      "cell_type": "code",
      "execution_count": null,
      "metadata": {
        "collapsed": true,
        "id": "IzTmxGfFgdzZ"
      },
      "outputs": [],
      "source": [
        "tfidf_feat = model.get_feature_names() # tfidf words/col-names"
      ]
    },
    {
      "cell_type": "code",
      "execution_count": null,
      "metadata": {
        "colab": {
          "base_uri": "https://localhost:8080/",
          "height": 35
        },
        "id": "OkElwgPegdzc",
        "outputId": "1f32f796-5c57-4c29-bca5-7e4b69ab9e91"
      },
      "outputs": [
        {
          "name": "stderr",
          "output_type": "stream",
          "text": [
            "100%|██████████| 14000/14000 [02:51<00:00, 81.71it/s]\n"
          ]
        }
      ],
      "source": [
        "list_of_sentance_tr=[]\n",
        "for sentance in X_tr:\n",
        "    list_of_sentance_tr.append(sentance.split())\n",
        "\n",
        "tfidf_sent_vectors_tr = []; # the tfidf-w2v for each sentence/review is stored in this list\n",
        "row=0;\n",
        "for sent in tqdm(list_of_sentance_tr): # for each review/sentence \n",
        "    sent_vec = np.zeros(50) # as word vectors are of zero length\n",
        "    weight_sum =0; # num of words with a valid vector in the sentence/review\n",
        "    for word in sent: # for each word in a review/sentence\n",
        "        if word in w2v_words and word in tfidf_feat:\n",
        "            vec = w2v_model.wv[word]\n",
        "#             tf_idf = tf_idf_matrix[row, tfidf_feat.index(word)]\n",
        "            # to reduce the computation we are \n",
        "            # dictionary[word] = idf value of word in whole courpus\n",
        "            # sent.count(word) = tf valeus of word in this review\n",
        "            tf_idf = dictionary[word]*(sent.count(word)/len(sent))\n",
        "            sent_vec += (vec * tf_idf)\n",
        "            weight_sum += tf_idf\n",
        "    if weight_sum != 0:\n",
        "        sent_vec /= weight_sum\n",
        "    tfidf_sent_vectors_tr.append(sent_vec)\n",
        "    row += 1"
      ]
    },
    {
      "cell_type": "code",
      "execution_count": null,
      "metadata": {
        "colab": {
          "base_uri": "https://localhost:8080/",
          "height": 35
        },
        "id": "wXW1gyetgdzi",
        "outputId": "6795fe53-7ead-4de5-9302-7b0df19fcc18"
      },
      "outputs": [
        {
          "name": "stderr",
          "output_type": "stream",
          "text": [
            "100%|██████████| 6000/6000 [01:20<00:00, 74.41it/s]\n"
          ]
        }
      ],
      "source": [
        "list_of_sentance_test=[]\n",
        "for sentance in X_test:\n",
        "    list_of_sentance_test.append(sentance.split())\n",
        "\n",
        "tfidf_sent_vectors_test = []; # the tfidf-w2v for each sentence/review is stored in this list\n",
        "row=0;\n",
        "for sent in tqdm(list_of_sentance_test): # for each review/sentence \n",
        "    sent_vec = np.zeros(50) # as word vectors are of zero length\n",
        "    weight_sum =0; # num of words with a valid vector in the sentence/review\n",
        "    for word in sent: # for each word in a review/sentence\n",
        "        if word in w2v_words and word in tfidf_feat:\n",
        "            vec = w2v_model.wv[word]\n",
        "#             tf_idf = tf_idf_matrix[row, tfidf_feat.index(word)]\n",
        "            # to reduce the computation we are \n",
        "            # dictionary[word] = idf value of word in whole courpus\n",
        "            # sent.count(word) = tf valeus of word in this review\n",
        "            tf_idf = dictionary[word]*(sent.count(word)/len(sent))\n",
        "            sent_vec += (vec * tf_idf)\n",
        "            weight_sum += tf_idf\n",
        "    if weight_sum != 0:\n",
        "        sent_vec /= weight_sum\n",
        "    tfidf_sent_vectors_test.append(sent_vec)\n",
        "    row += 1"
      ]
    },
    {
      "cell_type": "code",
      "execution_count": null,
      "metadata": {
        "colab": {
          "base_uri": "https://localhost:8080/",
          "height": 52
        },
        "id": "lF13lL4QgpEj",
        "outputId": "48ef4095-8c3f-4b30-f39d-a1a31045f758"
      },
      "outputs": [
        {
          "name": "stdout",
          "output_type": "stream",
          "text": [
            "parameters are  {'C': [0.5, 2, 8, 32, 128], 'gamma': [0.125, 0.5, 2, 8]}\n",
            "{'C': 8, 'gamma': 0.125}\n"
          ]
        }
      ],
      "source": [
        "from sklearn import svm\n",
        "from sklearn.svm import SVC\n",
        "Cs = [2**-1, 2**1, 2**3, 2**5, 2**7]\n",
        "gammas = [ 2**-3,  2**-1,2**1, 2**3]\n",
        "\n",
        "param_grid = {'C': Cs, 'gamma' : gammas}\n",
        "print(\"parameters are \",param_grid)\n",
        "clf = GridSearchCV(svm.SVC(kernel='rbf'), param_grid, scoring='roc_auc', cv=3, return_train_score=True)\n",
        "clf.fit(tfidf_sent_vectors_tr, y_tr)\n",
        "clf.best_params_\n",
        "print(clf.best_params_)\n"
      ]
    },
    {
      "cell_type": "code",
      "execution_count": null,
      "metadata": {
        "colab": {
          "base_uri": "https://localhost:8080/",
          "height": 435
        },
        "id": "tM_-GDXjgpEn",
        "outputId": "9301d553-4933-4ed4-e203-6b96066f1452"
      },
      "outputs": [
        {
          "data": {
            "image/png": "[encoded data removed]",
            "text/plain": [
              "<Figure size 576x432 with 2 Axes>"
            ]
          },
          "metadata": {
            "tags": []
          },
          "output_type": "display_data"
        }
      ],
      "source": [
        "scores = clf.cv_results_['mean_test_score'].reshape(\n",
        "                                                     len(param_grid['C']), len(param_grid['gamma']))\n",
        "\n",
        "plt.figure(figsize=(8, 6))\n",
        "plt.subplots_adjust(left=.2, right=0.95, bottom=0.15, top=0.95)\n",
        "plt.imshow(scores, interpolation='nearest', cmap=plt.cm.hot,\n",
        "           norm=MidpointNormalize(vmin=0.2, midpoint=0.92))\n",
        "plt.xlabel('C')\n",
        "plt.ylabel('gamma')\n",
        "plt.colorbar()\n",
        "plt.xticks(np.arange(len(param_grid['C'])), param_grid['C'], rotation=45)\n",
        "plt.yticks(np.arange(len((param_grid['gamma']))), param_grid['gamma'])\n",
        "plt.title('Validation accuracy on CV data')\n",
        "plt.show()"
      ]
    },
    {
      "cell_type": "code",
      "execution_count": null,
      "metadata": {
        "colab": {
          "base_uri": "https://localhost:8080/",
          "height": 435
        },
        "id": "M1eCn8xIgpEq",
        "outputId": "08b1d2fe-9437-4cbc-92e8-b65998d4b123"
      },
      "outputs": [
        {
          "data": {
            "image/png": "[encoded data removed]",
            "text/plain": [
              "<Figure size 576x432 with 2 Axes>"
            ]
          },
          "metadata": {
            "tags": []
          },
          "output_type": "display_data"
        }
      ],
      "source": [
        "scores = clf.cv_results_['mean_train_score'].reshape(\n",
        "                                                     len(param_grid['C']), len(param_grid['gamma']))\n",
        "plt.figure(figsize=(8, 6))\n",
        "plt.subplots_adjust(left=.2, right=0.95, bottom=0.15, top=0.95)\n",
        "plt.imshow(scores, interpolation='nearest', cmap=plt.cm.hot,\n",
        "           norm=MidpointNormalize(vmin=0.2, midpoint=0.92))\n",
        "plt.xlabel('C')\n",
        "plt.ylabel('gamma')\n",
        "plt.colorbar()\n",
        "plt.xticks(np.arange(len(param_grid['C'])), param_grid['C'], rotation=45)\n",
        "plt.yticks(np.arange(len((param_grid['gamma']))), param_grid['gamma'])\n",
        "plt.title('Validation accuracy on train data')\n",
        "plt.show()"
      ]
    },
    {
      "cell_type": "code",
      "execution_count": null,
      "metadata": {
        "colab": {
          "base_uri": "https://localhost:8080/",
          "height": 295
        },
        "id": "Ypmyqu9UgpEu",
        "outputId": "85f1301a-2d12-4e88-f71d-bc9018201717"
      },
      "outputs": [
        {
          "name": "stdout",
          "output_type": "stream",
          "text": [
            "\n",
            " Train Score **\n",
            "\n",
            "[[0.8784398  0.8909325  0.9626139  0.99911012]\n",
            " [0.87955656 0.91451429 0.9847487  0.99823373]\n",
            " [0.89177885 0.94607342 0.99762608 0.99848142]\n",
            " [0.9126776  0.97586044 0.99902516 0.99848142]\n",
            " [0.93561127 0.99327049 0.99912104 0.99848142]]\n",
            "\n",
            " CV Score **\n",
            "\n",
            "[[0.84432515 0.82276677 0.7856274  0.73305413]\n",
            " [0.84482085 0.82571596 0.78141263 0.72814991]\n",
            " [0.84678469 0.8192188  0.76719897 0.72657032]\n",
            " [0.84534567 0.80526761 0.75178402 0.72657032]\n",
            " [0.83860077 0.78528598 0.74909123 0.72657032]]\n"
          ]
        }
      ],
      "source": [
        "print(\"\\n Train Score **\\n\")\n",
        "print(clf.cv_results_['mean_train_score'].reshape(len(param_grid['C']), len(param_grid['gamma'])))\n",
        "print(\"\\n CV Score **\\n\")\n",
        "print(clf.cv_results_['mean_test_score'].reshape(len(param_grid['C']), len(param_grid['gamma'])))\n"
      ]
    },
    {
      "cell_type": "code",
      "execution_count": null,
      "metadata": {
        "colab": {
          "base_uri": "https://localhost:8080/",
          "height": 87
        },
        "id": "a4W9Fig1gpEw",
        "outputId": "db0e3f25-8fbc-404c-f422-bce024cb9ef4"
      },
      "outputs": [
        {
          "data": {
            "text/plain": [
              "SVC(C=8, cache_size=200, class_weight=None, coef0=0.0,\n",
              "    decision_function_shape='ovr', degree=3, gamma=0.125, kernel='rbf',\n",
              "    max_iter=-1, probability=True, random_state=None, shrinking=True, tol=0.001,\n",
              "    verbose=False)"
            ]
          },
          "execution_count": 77,
          "metadata": {
            "tags": []
          },
          "output_type": "execute_result"
        }
      ],
      "source": [
        "svc = svm.SVC(kernel='rbf', C =8 , gamma = 0.125, probability=True )\n",
        "svc.fit(tfidf_sent_vectors_tr,y_tr)"
      ]
    },
    {
      "cell_type": "code",
      "execution_count": null,
      "metadata": {
        "colab": {
          "base_uri": "https://localhost:8080/",
          "height": 955
        },
        "id": "7lLiMiubgpEz",
        "outputId": "d1800474-c28e-406f-a0a8-58bf33a6f6a2"
      },
      "outputs": [
        {
          "name": "stdout",
          "output_type": "stream",
          "text": [
            "Confusion Matrix of train data \n",
            "\n"
          ]
        },
        {
          "data": {
            "image/png": "[encoded data removed]",
            "text/plain": [
              "<Figure size 432x288 with 2 Axes>"
            ]
          },
          "metadata": {
            "tags": []
          },
          "output_type": "display_data"
        },
        {
          "name": "stdout",
          "output_type": "stream",
          "text": [
            "Confusion Matrix of test data \n",
            "\n"
          ]
        },
        {
          "data": {
            "image/png": "[encoded data removed]",
            "text/plain": [
              "<Figure size 432x288 with 2 Axes>"
            ]
          },
          "metadata": {
            "tags": []
          },
          "output_type": "display_data"
        },
        {
          "name": "stdout",
          "output_type": "stream",
          "text": [
            "**** TEST AUC ***  0.803901050354951\n",
            "**** TRAIN AUC *****  0.8370366598421364\n"
          ]
        },
        {
          "data": {
            "image/png": "[encoded data removed]",
            "text/plain": [
              "<Figure size 432x288 with 1 Axes>"
            ]
          },
          "metadata": {
            "tags": []
          },
          "output_type": "display_data"
        }
      ],
      "source": [
        "print(\"Confusion Matrix of train data \\n\")\n",
        "predict = svc.predict(tfidf_sent_vectors_tr)\n",
        "cm = metrics.confusion_matrix(y_tr, predict)\n",
        "ConfusionMatrixPrint(cm)\n",
        "print(\"Confusion Matrix of test data \\n\")\n",
        "predict = svc.predict(tfidf_sent_vectors_test)\n",
        "cm = metrics.confusion_matrix(y_test, predict)\n",
        "ConfusionMatrixPrint(cm)\n",
        "y_cv_predict = np.array(svc.predict_proba(tfidf_sent_vectors_test))\n",
        "preds = np.max(y_cv_predict,axis=1)\n",
        "fpr, tpr, threshold = metrics.roc_curve(y_test, preds)\n",
        "roc_auc = metrics.auc(fpr, tpr)\n",
        "print(\"**** TEST AUC *** \", roc_auc)\n",
        "y_tr_predict = np.array(svc.predict_proba(tfidf_sent_vectors_tr))\n",
        "y_tr_predict = np.max(y_tr_predict,axis=1)\n",
        "fpr_tr, tpr_tr, threshold_tr = metrics.roc_curve(y_tr, y_tr_predict)\n",
        "#calculating AUC\n",
        "auc = metrics.auc(fpr_tr, tpr_tr)\n",
        "print(\"**** TRAIN AUC ***** \", auc)\n",
        "ROCCurvePrint(fpr,tpr, fpr_tr, tpr_tr)"
      ]
    },
    {
      "cell_type": "markdown",
      "metadata": {
        "id": "-vYjV7ApTHHd"
      },
      "source": [
        "##<font color='green'><b>SUMMARY </b></font>"
      ]
    },
    {
      "cell_type": "code",
      "execution_count": null,
      "metadata": {
        "colab": {
          "base_uri": "https://localhost:8080/",
          "height": 225
        },
        "id": "DWo-wtjyTHHf",
        "outputId": "36c612d0-8bf3-45b3-b60c-3eac737df5c9"
      },
      "outputs": [
        {
          "name": "stdout",
          "output_type": "stream",
          "text": [
            "+------+---------------------------+---------------------+----------+\n",
            "| S.NO |     Model Description     |   Hyperparameter    | Test AUC |\n",
            "+------+---------------------------+---------------------+----------+\n",
            "|  1   |     linear SVM on Bow     |    L2 with 0.001    |  76.90   |\n",
            "|  2   |    linear SVM on Tf-IDF   |    L2 with 0.0001   |  85.60   |\n",
            "|  3   |    linear SVM on Avg W2V  |    L2 with 0.001    |  83.28   |\n",
            "|  4   |  linear SVM on TF-IDF w2v |     L2 with 0.01    |  82.14   |\n",
            "|  5   |       RBF SVM on BoW      | C:2 and gamma 0.125 |  78.59   |\n",
            "|  6   |      RBF SVM on TF-IDF    |   C:8 and gamma 2   |  81.62   |\n",
            "|  7   |     RBF SVM on Avg W2V    | C:8 and gamma 0.125 |  81.11   |\n",
            "|  8   |    RBF SVM on TFIDF W2V   | C:8 and gamma 0.125 |  80.39   |\n",
            "+------+---------------------------+---------------------+----------+\n"
          ]
        }
      ],
      "source": [
        "from prettytable import PrettyTable\n",
        "x = PrettyTable()\n",
        "x.add_column(\"S.NO\",[1,2,3,4,5,6,7,8])\n",
        "x.add_column(\"Model Description\",[\"linear SVM on Bow\",\" linear SVM on Tf-IDF\",\\\n",
        "                                  \" linear SVM on Avg W2V\", \" linear SVM on TF-IDF w2v\",\\\n",
        "                                  \"RBF SVM on BoW\",\" RBF SVM on TF-IDF\",\" RBF SVM on Avg W2V\",\\\n",
        "                                  \" RBF SVM on TFIDF W2V\"])\n",
        "x.add_column(\"Hyperparameter \",[\"L2 with 0.001\" ,\"L2 with 0.0001\",\"L2 with 0.001\",\"L2 with 0.01\",\\\n",
        "                                \"C:2 and gamma 0.125\",\"C:8 and gamma 2\",\\\n",
        "                                \"C:8 and gamma 0.125\",\"C:8 and gamma 0.125\" ])\n",
        "x.add_column(\"Test AUC\",[\"76.90\" ,\"85.60\",\"83.28\",\"82.14\",\"78.59\",\"81.62\",\n",
        "                         \"81.11\",\"80.39\" ])\n",
        "print(x)"
      ]
    }
  ],
  "metadata": {
    "colab": {
      "name": "svm.ipynb",
      "provenance": [],
      "include_colab_link": true
    },
    "kernelspec": {
      "display_name": "Python 3",
      "language": "python",
      "name": "python3"
    },
    "language_info": {
      "codemirror_mode": {
        "name": "ipython",
        "version": 3
      },
      "file_extension": ".py",
      "mimetype": "text/x-python",
      "name": "python",
      "nbconvert_exporter": "python",
      "pygments_lexer": "ipython3",
      "version": "3.6.3"
    }
  },
  "nbformat": 4,
  "nbformat_minor": 0
}